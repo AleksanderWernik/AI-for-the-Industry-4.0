{
  "nbformat": 4,
  "nbformat_minor": 0,
  "metadata": {
    "colab": {
      "provenance": [],
      "mount_file_id": "1QSpIxXkOitsDuIpex2ArX3P5o2OMfzuB",
      "authorship_tag": "ABX9TyPqU4B9XawRkrsDgB7An8c3",
      "include_colab_link": true
    },
    "kernelspec": {
      "name": "python3",
      "display_name": "Python 3"
    },
    "language_info": {
      "name": "python"
    }
  },
  "cells": [
    {
      "cell_type": "markdown",
      "metadata": {
        "id": "view-in-github",
        "colab_type": "text"
      },
      "source": [
        "<a href=\"https://colab.research.google.com/github/AleksanderWernik/AI-for-the-Industry-4.0/blob/main/Sensors.ipynb\" target=\"_parent\"><img src=\"https://colab.research.google.com/assets/colab-badge.svg\" alt=\"Open In Colab\"/></a>"
      ]
    },
    {
      "cell_type": "markdown",
      "source": [
        "A company producing fiber optic sensors decided to implement the AI techniques to automate verification of produced sensors. Currently, after the production of the sensor, its characteristics should be verified each time in three reference substances in order to configure: Air, Water and Isopropanol.\n",
        "After the procedure in the laboratory they collected three spectroscopic\n",
        "signals. Unfortunately, such procedures are extremely time consuming and\n",
        "require large human resources. \n",
        "**The main task in this project is to implement AI algorithms** in order to predict characteristics of a working sensor in water and isopropanol based\n",
        "on measured characteristics in air. It will enable to reduce validation process\n",
        "only to measurements in the air."
      ],
      "metadata": {
        "id": "wGEvlMPNQi7A"
      }
    },
    {
      "cell_type": "code",
      "execution_count": 1,
      "metadata": {
        "id": "QI6xxY1-VVCv",
        "colab": {
          "base_uri": "https://localhost:8080/"
        },
        "outputId": "3aaf7083-5452-43a9-e033-745d774e16cd"
      },
      "outputs": [
        {
          "output_type": "stream",
          "name": "stdout",
          "text": [
            "Drive already mounted at /content/drive; to attempt to forcibly remount, call drive.mount(\"/content/drive\", force_remount=True).\n"
          ]
        }
      ],
      "source": [
        "from google.colab import drive\n",
        "drive.mount('/content/drive')"
      ]
    },
    {
      "cell_type": "code",
      "source": [
        "cd /content/drive/MyDrive/Github/"
      ],
      "metadata": {
        "colab": {
          "base_uri": "https://localhost:8080/"
        },
        "id": "7WbCgUkzVWoH",
        "outputId": "c88d01a9-0f66-4a4e-f857-848170415074"
      },
      "execution_count": 120,
      "outputs": [
        {
          "output_type": "stream",
          "name": "stdout",
          "text": [
            "[Errno 2] No such file or directory: '/content/drive/MyDrive/Github/'\n",
            "/content\n"
          ]
        }
      ]
    },
    {
      "cell_type": "code",
      "source": [
        "import pandas as pd\n",
        "import numpy as np\n",
        "import matplotlib.pyplot as plt\n",
        "import seaborn as sns"
      ],
      "metadata": {
        "id": "5bzjXTH0WTtB"
      },
      "execution_count": 2,
      "outputs": []
    },
    {
      "cell_type": "code",
      "source": [
        "import glob\n",
        "path = r'./drive/MyDrive/Dataset/*'\n",
        "filenames = glob.glob(path + '/*.txt')"
      ],
      "metadata": {
        "id": "Ib-q5Y0YbFmI"
      },
      "execution_count": 4,
      "outputs": []
    },
    {
      "cell_type": "code",
      "source": [
        "dfs = []\n",
        "for filename in filenames:\n",
        "    li = pd.read_csv(filename, sep=',', header=None, names=['sw' + filename, 'sa' + filename])\n",
        "    dfs.append(li)"
      ],
      "metadata": {
        "id": "UhFv8wH9bTGb"
      },
      "execution_count": 5,
      "outputs": []
    },
    {
      "cell_type": "code",
      "source": [
        "df = pd.concat(dfs, axis=1)\n",
        "df.columns = df.columns.str.replace(\"/drive/MyDrive/Dataset/\", \"\")\n",
        "df.columns = df.columns.str.replace(\".txt\", \"\")\n",
        "df.columns = df.columns.str.slice(0, 3) + df.columns.str.slice(16, None)\n",
        "df"
      ],
      "metadata": {
        "colab": {
          "base_uri": "https://localhost:8080/",
          "height": 522
        },
        "id": "4TO1YpMHbyyj",
        "outputId": "92d0d285-bf6d-43af-e3a7-1ca00ff032bd"
      },
      "execution_count": 6,
      "outputs": [
        {
          "output_type": "stream",
          "name": "stderr",
          "text": [
            "<ipython-input-6-3d4ee3e20573>:3: FutureWarning: The default value of regex will change from True to False in a future version.\n",
            "  df.columns = df.columns.str.replace(\".txt\", \"\")\n"
          ]
        },
        {
          "output_type": "execute_result",
          "data": {
            "text/plain": [
              "      sw.sensor05_water  sa.sensor05_water  sw.sensor05_izopropanol  \\\n",
              "0              0.000001             8.6370                 0.000001   \n",
              "1              0.000001             8.8197                 0.000001   \n",
              "2              0.000001             8.7279                 0.000001   \n",
              "3              0.000001             8.7620                 0.000001   \n",
              "4              0.000001             8.7683                 0.000001   \n",
              "...                 ...                ...                      ...   \n",
              "2996           0.000002            -1.7018                 0.000002   \n",
              "2997           0.000002            -1.4070                 0.000002   \n",
              "2998           0.000002            -1.6194                 0.000002   \n",
              "2999           0.000002            -1.5367                 0.000002   \n",
              "3000           0.000002            -1.3299                 0.000002   \n",
              "\n",
              "      sa.sensor05_izopropanol  sw.sensor05_air  sa.sensor05_air  \\\n",
              "0                      8.9739         0.000001           9.4439   \n",
              "1                      9.0295         0.000001           9.6645   \n",
              "2                      8.9789         0.000001           9.5697   \n",
              "3                      8.9369         0.000001           9.6378   \n",
              "4                      8.9419         0.000001           9.4933   \n",
              "...                       ...              ...              ...   \n",
              "2996                  -1.4352         0.000002           2.8330   \n",
              "2997                  -1.3112         0.000002           2.9789   \n",
              "2998                  -1.4019         0.000002           2.7841   \n",
              "2999                  -1.0986         0.000002           2.9465   \n",
              "3000                  -1.1614         0.000002           3.0680   \n",
              "\n",
              "      sw.sensor04_air  sa.sensor04_air  sw.sensor04_water  sa.sensor04_water  \\\n",
              "0            0.000001           8.0963           0.000001             7.3714   \n",
              "1            0.000001           8.1872           0.000001             7.3794   \n",
              "2            0.000001           8.2061           0.000001             7.3017   \n",
              "3            0.000001           8.1094           0.000001             7.2528   \n",
              "4            0.000001           7.9691           0.000001             7.2032   \n",
              "...               ...              ...                ...                ...   \n",
              "2996         0.000002           1.5783           0.000002            -2.7569   \n",
              "2997         0.000002           1.7888           0.000002            -2.8164   \n",
              "2998         0.000002           1.3259           0.000002            -2.8534   \n",
              "2999         0.000002           1.6945           0.000002            -2.6457   \n",
              "3000         0.000002           1.9239           0.000002            -2.4994   \n",
              "\n",
              "      ...  sw.sensor06_water  sa.sensor06_water  sw.sensor06_air  \\\n",
              "0     ...           0.000001             8.7331         0.000001   \n",
              "1     ...           0.000001             8.7934         0.000001   \n",
              "2     ...           0.000001             8.7887         0.000001   \n",
              "3     ...           0.000001             8.7277         0.000001   \n",
              "4     ...           0.000001             8.7171         0.000001   \n",
              "...   ...                ...                ...              ...   \n",
              "2996  ...           0.000002            -1.8323         0.000002   \n",
              "2997  ...           0.000002            -1.7141         0.000002   \n",
              "2998  ...           0.000002            -1.9062         0.000002   \n",
              "2999  ...           0.000002            -1.7105         0.000002   \n",
              "3000  ...           0.000002            -1.5242         0.000002   \n",
              "\n",
              "      sa.sensor06_air  sw.sensor02_air  sa.sensor02_air  sw.sensor02_water  \\\n",
              "0              9.4554         0.000001           9.7793           0.000001   \n",
              "1              9.6052         0.000001           9.8643           0.000001   \n",
              "2              9.6264         0.000001           9.8031           0.000001   \n",
              "3              9.5136         0.000001           9.7320           0.000001   \n",
              "4              9.4042         0.000001           9.6895           0.000001   \n",
              "...               ...              ...              ...                ...   \n",
              "2996           2.4787         0.000002           3.5505           0.000002   \n",
              "2997           2.9384         0.000002           3.8237           0.000002   \n",
              "2998           2.4859         0.000002           3.6708           0.000002   \n",
              "2999           2.9317         0.000002           3.8785           0.000002   \n",
              "3000           2.8220         0.000002           3.8886           0.000002   \n",
              "\n",
              "      sa.sensor02_water  sw.sensor02_izopropanol  sa.sensor02_izopropanol  \n",
              "0               9.06070                 0.000001                 9.254400  \n",
              "1               9.12380                 0.000001                 9.301200  \n",
              "2               9.11590                 0.000001                 9.251200  \n",
              "3               9.04310                 0.000001                 9.273400  \n",
              "4               8.98600                 0.000001                 9.199900  \n",
              "...                 ...                      ...                      ...  \n",
              "2996           -0.61592                 0.000002                -0.394290  \n",
              "2997           -0.76438                 0.000002                -0.215570  \n",
              "2998           -0.46729                 0.000002                -0.296660  \n",
              "2999           -0.33695                 0.000002                -0.117730  \n",
              "3000           -0.30843                 0.000002                 0.001783  \n",
              "\n",
              "[3001 rows x 60 columns]"
            ],
            "text/html": [
              "\n",
              "  <div id=\"df-049f55c3-7edc-4893-b491-d0c8582e1742\">\n",
              "    <div class=\"colab-df-container\">\n",
              "      <div>\n",
              "<style scoped>\n",
              "    .dataframe tbody tr th:only-of-type {\n",
              "        vertical-align: middle;\n",
              "    }\n",
              "\n",
              "    .dataframe tbody tr th {\n",
              "        vertical-align: top;\n",
              "    }\n",
              "\n",
              "    .dataframe thead th {\n",
              "        text-align: right;\n",
              "    }\n",
              "</style>\n",
              "<table border=\"1\" class=\"dataframe\">\n",
              "  <thead>\n",
              "    <tr style=\"text-align: right;\">\n",
              "      <th></th>\n",
              "      <th>sw.sensor05_water</th>\n",
              "      <th>sa.sensor05_water</th>\n",
              "      <th>sw.sensor05_izopropanol</th>\n",
              "      <th>sa.sensor05_izopropanol</th>\n",
              "      <th>sw.sensor05_air</th>\n",
              "      <th>sa.sensor05_air</th>\n",
              "      <th>sw.sensor04_air</th>\n",
              "      <th>sa.sensor04_air</th>\n",
              "      <th>sw.sensor04_water</th>\n",
              "      <th>sa.sensor04_water</th>\n",
              "      <th>...</th>\n",
              "      <th>sw.sensor06_water</th>\n",
              "      <th>sa.sensor06_water</th>\n",
              "      <th>sw.sensor06_air</th>\n",
              "      <th>sa.sensor06_air</th>\n",
              "      <th>sw.sensor02_air</th>\n",
              "      <th>sa.sensor02_air</th>\n",
              "      <th>sw.sensor02_water</th>\n",
              "      <th>sa.sensor02_water</th>\n",
              "      <th>sw.sensor02_izopropanol</th>\n",
              "      <th>sa.sensor02_izopropanol</th>\n",
              "    </tr>\n",
              "  </thead>\n",
              "  <tbody>\n",
              "    <tr>\n",
              "      <th>0</th>\n",
              "      <td>0.000001</td>\n",
              "      <td>8.6370</td>\n",
              "      <td>0.000001</td>\n",
              "      <td>8.9739</td>\n",
              "      <td>0.000001</td>\n",
              "      <td>9.4439</td>\n",
              "      <td>0.000001</td>\n",
              "      <td>8.0963</td>\n",
              "      <td>0.000001</td>\n",
              "      <td>7.3714</td>\n",
              "      <td>...</td>\n",
              "      <td>0.000001</td>\n",
              "      <td>8.7331</td>\n",
              "      <td>0.000001</td>\n",
              "      <td>9.4554</td>\n",
              "      <td>0.000001</td>\n",
              "      <td>9.7793</td>\n",
              "      <td>0.000001</td>\n",
              "      <td>9.06070</td>\n",
              "      <td>0.000001</td>\n",
              "      <td>9.254400</td>\n",
              "    </tr>\n",
              "    <tr>\n",
              "      <th>1</th>\n",
              "      <td>0.000001</td>\n",
              "      <td>8.8197</td>\n",
              "      <td>0.000001</td>\n",
              "      <td>9.0295</td>\n",
              "      <td>0.000001</td>\n",
              "      <td>9.6645</td>\n",
              "      <td>0.000001</td>\n",
              "      <td>8.1872</td>\n",
              "      <td>0.000001</td>\n",
              "      <td>7.3794</td>\n",
              "      <td>...</td>\n",
              "      <td>0.000001</td>\n",
              "      <td>8.7934</td>\n",
              "      <td>0.000001</td>\n",
              "      <td>9.6052</td>\n",
              "      <td>0.000001</td>\n",
              "      <td>9.8643</td>\n",
              "      <td>0.000001</td>\n",
              "      <td>9.12380</td>\n",
              "      <td>0.000001</td>\n",
              "      <td>9.301200</td>\n",
              "    </tr>\n",
              "    <tr>\n",
              "      <th>2</th>\n",
              "      <td>0.000001</td>\n",
              "      <td>8.7279</td>\n",
              "      <td>0.000001</td>\n",
              "      <td>8.9789</td>\n",
              "      <td>0.000001</td>\n",
              "      <td>9.5697</td>\n",
              "      <td>0.000001</td>\n",
              "      <td>8.2061</td>\n",
              "      <td>0.000001</td>\n",
              "      <td>7.3017</td>\n",
              "      <td>...</td>\n",
              "      <td>0.000001</td>\n",
              "      <td>8.7887</td>\n",
              "      <td>0.000001</td>\n",
              "      <td>9.6264</td>\n",
              "      <td>0.000001</td>\n",
              "      <td>9.8031</td>\n",
              "      <td>0.000001</td>\n",
              "      <td>9.11590</td>\n",
              "      <td>0.000001</td>\n",
              "      <td>9.251200</td>\n",
              "    </tr>\n",
              "    <tr>\n",
              "      <th>3</th>\n",
              "      <td>0.000001</td>\n",
              "      <td>8.7620</td>\n",
              "      <td>0.000001</td>\n",
              "      <td>8.9369</td>\n",
              "      <td>0.000001</td>\n",
              "      <td>9.6378</td>\n",
              "      <td>0.000001</td>\n",
              "      <td>8.1094</td>\n",
              "      <td>0.000001</td>\n",
              "      <td>7.2528</td>\n",
              "      <td>...</td>\n",
              "      <td>0.000001</td>\n",
              "      <td>8.7277</td>\n",
              "      <td>0.000001</td>\n",
              "      <td>9.5136</td>\n",
              "      <td>0.000001</td>\n",
              "      <td>9.7320</td>\n",
              "      <td>0.000001</td>\n",
              "      <td>9.04310</td>\n",
              "      <td>0.000001</td>\n",
              "      <td>9.273400</td>\n",
              "    </tr>\n",
              "    <tr>\n",
              "      <th>4</th>\n",
              "      <td>0.000001</td>\n",
              "      <td>8.7683</td>\n",
              "      <td>0.000001</td>\n",
              "      <td>8.9419</td>\n",
              "      <td>0.000001</td>\n",
              "      <td>9.4933</td>\n",
              "      <td>0.000001</td>\n",
              "      <td>7.9691</td>\n",
              "      <td>0.000001</td>\n",
              "      <td>7.2032</td>\n",
              "      <td>...</td>\n",
              "      <td>0.000001</td>\n",
              "      <td>8.7171</td>\n",
              "      <td>0.000001</td>\n",
              "      <td>9.4042</td>\n",
              "      <td>0.000001</td>\n",
              "      <td>9.6895</td>\n",
              "      <td>0.000001</td>\n",
              "      <td>8.98600</td>\n",
              "      <td>0.000001</td>\n",
              "      <td>9.199900</td>\n",
              "    </tr>\n",
              "    <tr>\n",
              "      <th>...</th>\n",
              "      <td>...</td>\n",
              "      <td>...</td>\n",
              "      <td>...</td>\n",
              "      <td>...</td>\n",
              "      <td>...</td>\n",
              "      <td>...</td>\n",
              "      <td>...</td>\n",
              "      <td>...</td>\n",
              "      <td>...</td>\n",
              "      <td>...</td>\n",
              "      <td>...</td>\n",
              "      <td>...</td>\n",
              "      <td>...</td>\n",
              "      <td>...</td>\n",
              "      <td>...</td>\n",
              "      <td>...</td>\n",
              "      <td>...</td>\n",
              "      <td>...</td>\n",
              "      <td>...</td>\n",
              "      <td>...</td>\n",
              "      <td>...</td>\n",
              "    </tr>\n",
              "    <tr>\n",
              "      <th>2996</th>\n",
              "      <td>0.000002</td>\n",
              "      <td>-1.7018</td>\n",
              "      <td>0.000002</td>\n",
              "      <td>-1.4352</td>\n",
              "      <td>0.000002</td>\n",
              "      <td>2.8330</td>\n",
              "      <td>0.000002</td>\n",
              "      <td>1.5783</td>\n",
              "      <td>0.000002</td>\n",
              "      <td>-2.7569</td>\n",
              "      <td>...</td>\n",
              "      <td>0.000002</td>\n",
              "      <td>-1.8323</td>\n",
              "      <td>0.000002</td>\n",
              "      <td>2.4787</td>\n",
              "      <td>0.000002</td>\n",
              "      <td>3.5505</td>\n",
              "      <td>0.000002</td>\n",
              "      <td>-0.61592</td>\n",
              "      <td>0.000002</td>\n",
              "      <td>-0.394290</td>\n",
              "    </tr>\n",
              "    <tr>\n",
              "      <th>2997</th>\n",
              "      <td>0.000002</td>\n",
              "      <td>-1.4070</td>\n",
              "      <td>0.000002</td>\n",
              "      <td>-1.3112</td>\n",
              "      <td>0.000002</td>\n",
              "      <td>2.9789</td>\n",
              "      <td>0.000002</td>\n",
              "      <td>1.7888</td>\n",
              "      <td>0.000002</td>\n",
              "      <td>-2.8164</td>\n",
              "      <td>...</td>\n",
              "      <td>0.000002</td>\n",
              "      <td>-1.7141</td>\n",
              "      <td>0.000002</td>\n",
              "      <td>2.9384</td>\n",
              "      <td>0.000002</td>\n",
              "      <td>3.8237</td>\n",
              "      <td>0.000002</td>\n",
              "      <td>-0.76438</td>\n",
              "      <td>0.000002</td>\n",
              "      <td>-0.215570</td>\n",
              "    </tr>\n",
              "    <tr>\n",
              "      <th>2998</th>\n",
              "      <td>0.000002</td>\n",
              "      <td>-1.6194</td>\n",
              "      <td>0.000002</td>\n",
              "      <td>-1.4019</td>\n",
              "      <td>0.000002</td>\n",
              "      <td>2.7841</td>\n",
              "      <td>0.000002</td>\n",
              "      <td>1.3259</td>\n",
              "      <td>0.000002</td>\n",
              "      <td>-2.8534</td>\n",
              "      <td>...</td>\n",
              "      <td>0.000002</td>\n",
              "      <td>-1.9062</td>\n",
              "      <td>0.000002</td>\n",
              "      <td>2.4859</td>\n",
              "      <td>0.000002</td>\n",
              "      <td>3.6708</td>\n",
              "      <td>0.000002</td>\n",
              "      <td>-0.46729</td>\n",
              "      <td>0.000002</td>\n",
              "      <td>-0.296660</td>\n",
              "    </tr>\n",
              "    <tr>\n",
              "      <th>2999</th>\n",
              "      <td>0.000002</td>\n",
              "      <td>-1.5367</td>\n",
              "      <td>0.000002</td>\n",
              "      <td>-1.0986</td>\n",
              "      <td>0.000002</td>\n",
              "      <td>2.9465</td>\n",
              "      <td>0.000002</td>\n",
              "      <td>1.6945</td>\n",
              "      <td>0.000002</td>\n",
              "      <td>-2.6457</td>\n",
              "      <td>...</td>\n",
              "      <td>0.000002</td>\n",
              "      <td>-1.7105</td>\n",
              "      <td>0.000002</td>\n",
              "      <td>2.9317</td>\n",
              "      <td>0.000002</td>\n",
              "      <td>3.8785</td>\n",
              "      <td>0.000002</td>\n",
              "      <td>-0.33695</td>\n",
              "      <td>0.000002</td>\n",
              "      <td>-0.117730</td>\n",
              "    </tr>\n",
              "    <tr>\n",
              "      <th>3000</th>\n",
              "      <td>0.000002</td>\n",
              "      <td>-1.3299</td>\n",
              "      <td>0.000002</td>\n",
              "      <td>-1.1614</td>\n",
              "      <td>0.000002</td>\n",
              "      <td>3.0680</td>\n",
              "      <td>0.000002</td>\n",
              "      <td>1.9239</td>\n",
              "      <td>0.000002</td>\n",
              "      <td>-2.4994</td>\n",
              "      <td>...</td>\n",
              "      <td>0.000002</td>\n",
              "      <td>-1.5242</td>\n",
              "      <td>0.000002</td>\n",
              "      <td>2.8220</td>\n",
              "      <td>0.000002</td>\n",
              "      <td>3.8886</td>\n",
              "      <td>0.000002</td>\n",
              "      <td>-0.30843</td>\n",
              "      <td>0.000002</td>\n",
              "      <td>0.001783</td>\n",
              "    </tr>\n",
              "  </tbody>\n",
              "</table>\n",
              "<p>3001 rows × 60 columns</p>\n",
              "</div>\n",
              "      <button class=\"colab-df-convert\" onclick=\"convertToInteractive('df-049f55c3-7edc-4893-b491-d0c8582e1742')\"\n",
              "              title=\"Convert this dataframe to an interactive table.\"\n",
              "              style=\"display:none;\">\n",
              "        \n",
              "  <svg xmlns=\"http://www.w3.org/2000/svg\" height=\"24px\"viewBox=\"0 0 24 24\"\n",
              "       width=\"24px\">\n",
              "    <path d=\"M0 0h24v24H0V0z\" fill=\"none\"/>\n",
              "    <path d=\"M18.56 5.44l.94 2.06.94-2.06 2.06-.94-2.06-.94-.94-2.06-.94 2.06-2.06.94zm-11 1L8.5 8.5l.94-2.06 2.06-.94-2.06-.94L8.5 2.5l-.94 2.06-2.06.94zm10 10l.94 2.06.94-2.06 2.06-.94-2.06-.94-.94-2.06-.94 2.06-2.06.94z\"/><path d=\"M17.41 7.96l-1.37-1.37c-.4-.4-.92-.59-1.43-.59-.52 0-1.04.2-1.43.59L10.3 9.45l-7.72 7.72c-.78.78-.78 2.05 0 2.83L4 21.41c.39.39.9.59 1.41.59.51 0 1.02-.2 1.41-.59l7.78-7.78 2.81-2.81c.8-.78.8-2.07 0-2.86zM5.41 20L4 18.59l7.72-7.72 1.47 1.35L5.41 20z\"/>\n",
              "  </svg>\n",
              "      </button>\n",
              "      \n",
              "  <style>\n",
              "    .colab-df-container {\n",
              "      display:flex;\n",
              "      flex-wrap:wrap;\n",
              "      gap: 12px;\n",
              "    }\n",
              "\n",
              "    .colab-df-convert {\n",
              "      background-color: #E8F0FE;\n",
              "      border: none;\n",
              "      border-radius: 50%;\n",
              "      cursor: pointer;\n",
              "      display: none;\n",
              "      fill: #1967D2;\n",
              "      height: 32px;\n",
              "      padding: 0 0 0 0;\n",
              "      width: 32px;\n",
              "    }\n",
              "\n",
              "    .colab-df-convert:hover {\n",
              "      background-color: #E2EBFA;\n",
              "      box-shadow: 0px 1px 2px rgba(60, 64, 67, 0.3), 0px 1px 3px 1px rgba(60, 64, 67, 0.15);\n",
              "      fill: #174EA6;\n",
              "    }\n",
              "\n",
              "    [theme=dark] .colab-df-convert {\n",
              "      background-color: #3B4455;\n",
              "      fill: #D2E3FC;\n",
              "    }\n",
              "\n",
              "    [theme=dark] .colab-df-convert:hover {\n",
              "      background-color: #434B5C;\n",
              "      box-shadow: 0px 1px 3px 1px rgba(0, 0, 0, 0.15);\n",
              "      filter: drop-shadow(0px 1px 2px rgba(0, 0, 0, 0.3));\n",
              "      fill: #FFFFFF;\n",
              "    }\n",
              "  </style>\n",
              "\n",
              "      <script>\n",
              "        const buttonEl =\n",
              "          document.querySelector('#df-049f55c3-7edc-4893-b491-d0c8582e1742 button.colab-df-convert');\n",
              "        buttonEl.style.display =\n",
              "          google.colab.kernel.accessAllowed ? 'block' : 'none';\n",
              "\n",
              "        async function convertToInteractive(key) {\n",
              "          const element = document.querySelector('#df-049f55c3-7edc-4893-b491-d0c8582e1742');\n",
              "          const dataTable =\n",
              "            await google.colab.kernel.invokeFunction('convertToInteractive',\n",
              "                                                     [key], {});\n",
              "          if (!dataTable) return;\n",
              "\n",
              "          const docLinkHtml = 'Like what you see? Visit the ' +\n",
              "            '<a target=\"_blank\" href=https://colab.research.google.com/notebooks/data_table.ipynb>data table notebook</a>'\n",
              "            + ' to learn more about interactive tables.';\n",
              "          element.innerHTML = '';\n",
              "          dataTable['output_type'] = 'display_data';\n",
              "          await google.colab.output.renderOutput(dataTable, element);\n",
              "          const docLink = document.createElement('div');\n",
              "          docLink.innerHTML = docLinkHtml;\n",
              "          element.appendChild(docLink);\n",
              "        }\n",
              "      </script>\n",
              "    </div>\n",
              "  </div>\n",
              "  "
            ]
          },
          "metadata": {},
          "execution_count": 6
        }
      ]
    },
    {
      "cell_type": "markdown",
      "source": [
        "Example characteristics from sensor 01 (measured in air, water and isopropanol)."
      ],
      "metadata": {
        "id": "mZiMmmPLs7Rx"
      }
    },
    {
      "cell_type": "code",
      "source": [
        "g=sns.lineplot(y='sa.sensor01_water', x='sw.sensor01_water', data=df, label='H2O')\n",
        "g=sns.lineplot(y='sa.sensor01_air', x='sw.sensor01_air', data=df, label='air')\n",
        "g=sns.lineplot(y='sa.sensor01_izopropanol', x='sw.sensor01_izopropanol', data=df, label='IPA')\n",
        "g.set(xlabel= \"signal wavelenght [nm]\" ,ylabel = 'signal amplitude [dB]')\n",
        "plt.show()"
      ],
      "metadata": {
        "colab": {
          "base_uri": "https://localhost:8080/",
          "height": 279
        },
        "id": "_qvyU1jSi0Pl",
        "outputId": "b173dc49-fb62-4b70-af2d-7d101760f790"
      },
      "execution_count": 8,
      "outputs": [
        {
          "output_type": "display_data",
          "data": {
            "text/plain": [
              "<Figure size 432x288 with 1 Axes>"
            ],
            "image/png": "[encoded data removed]"
          },
          "metadata": {
            "needs_background": "light"
          }
        }
      ]
    },
    {
      "cell_type": "markdown",
      "source": [
        "Characteristics of all sensors (measured in air, water and isopropanol)."
      ],
      "metadata": {
        "id": "QBEUA4TCtH84"
      }
    },
    {
      "cell_type": "code",
      "source": [
        "g=sns.lineplot(y='sa.sensor01_air', x='sw.sensor01_air', data=df)\n",
        "g=sns.lineplot(y='sa.sensor02_air', x='sw.sensor02_air', data=df)\n",
        "g=sns.lineplot(y='sa.sensor03_air', x='sw.sensor03_air', data=df)\n",
        "g=sns.lineplot(y='sa.sensor04_air', x='sw.sensor04_air', data=df)\n",
        "g=sns.lineplot(y='sa.sensor05_air', x='sw.sensor05_air', data=df)\n",
        "g=sns.lineplot(y='sa.sensor06_air', x='sw.sensor06_air', data=df)\n",
        "g=sns.lineplot(y='sa.sensor07_air', x='sw.sensor07_air', data=df)\n",
        "g=sns.lineplot(y='sa.sensor08_air', x='sw.sensor08_air', data=df)\n",
        "g=sns.lineplot(y='sa.sensor09_air', x='sw.sensor09_air', data=df)\n",
        "g=sns.lineplot(y='sa.sensor10_air', x='sw.sensor10_air', data=df)\n",
        "g.set(xlabel= \"signal wavelenght [nm]\" ,ylabel = 'signal amplitude [dB]', title='characteristics of all sensors measured in air')\n",
        "plt.show()"
      ],
      "metadata": {
        "colab": {
          "base_uri": "https://localhost:8080/",
          "height": 295
        },
        "id": "Qdv8f0a876Yg",
        "outputId": "f10bb81f-1d4b-4c67-990d-5401b0225d45"
      },
      "execution_count": 14,
      "outputs": [
        {
          "output_type": "display_data",
          "data": {
            "text/plain": [
              "<Figure size 432x288 with 1 Axes>"
            ],
            "image/png": "[encoded data removed]"
          },
          "metadata": {
            "needs_background": "light"
          }
        }
      ]
    },
    {
      "cell_type": "code",
      "source": [
        "g=sns.lineplot(y='sa.sensor01_water', x='sw.sensor01_water', data=df)\n",
        "g=sns.lineplot(y='sa.sensor02_water', x='sw.sensor02_water', data=df)\n",
        "g=sns.lineplot(y='sa.sensor03_water', x='sw.sensor03_water', data=df)\n",
        "g=sns.lineplot(y='sa.sensor04_water', x='sw.sensor04_water', data=df)\n",
        "g=sns.lineplot(y='sa.sensor05_water', x='sw.sensor05_water', data=df)\n",
        "g=sns.lineplot(y='sa.sensor06_water', x='sw.sensor06_water', data=df)\n",
        "g=sns.lineplot(y='sa.sensor07_water', x='sw.sensor07_water', data=df)\n",
        "g=sns.lineplot(y='sa.sensor08_water', x='sw.sensor08_water', data=df)\n",
        "g=sns.lineplot(y='sa.sensor09_water', x='sw.sensor09_water', data=df)\n",
        "g=sns.lineplot(y='sa.sensor10_water', x='sw.sensor10_water', data=df)\n",
        "g.set(xlabel= \"signal wavelenght [nm]\" ,ylabel = 'signal amplitude [dB]', title='characteristics of all sensors measured in water')\n",
        "plt.show()"
      ],
      "metadata": {
        "colab": {
          "base_uri": "https://localhost:8080/",
          "height": 295
        },
        "id": "QWIFS2shs3Jd",
        "outputId": "cbb8a8ee-13de-4b44-e41e-88884516d9d7"
      },
      "execution_count": 16,
      "outputs": [
        {
          "output_type": "display_data",
          "data": {
            "text/plain": [
              "<Figure size 432x288 with 1 Axes>"
            ],
            "image/png": "[encoded data removed]"
          },
          "metadata": {
            "needs_background": "light"
          }
        }
      ]
    },
    {
      "cell_type": "code",
      "source": [
        "g=sns.lineplot(y='sa.sensor01_izopropanol', x='sw.sensor01_izopropanol', data=df)\n",
        "g=sns.lineplot(y='sa.sensor02_izopropanol', x='sw.sensor02_izopropanol', data=df)\n",
        "g=sns.lineplot(y='sa.sensor03_izopropanol', x='sw.sensor03_izopropanol', data=df)\n",
        "g=sns.lineplot(y='sa.sensor04_izopropanol', x='sw.sensor04_izopropanol', data=df)\n",
        "g=sns.lineplot(y='sa.sensor05_izopropanol', x='sw.sensor05_izopropanol', data=df)\n",
        "g=sns.lineplot(y='sa.sensor06_izopropanol', x='sw.sensor06_izopropanol', data=df)\n",
        "g=sns.lineplot(y='sa.sensor07_izopropanol', x='sw.sensor07_izopropanol', data=df)\n",
        "g=sns.lineplot(y='sa.sensor08_izopropanol', x='sw.sensor08_izopropanol', data=df)\n",
        "g=sns.lineplot(y='sa.sensor09_izopropanol', x='sw.sensor09_izopropanol', data=df)\n",
        "g=sns.lineplot(y='sa.sensor10_izopropanol', x='sw.sensor10_izopropanol', data=df)\n",
        "g.set(xlabel= \"signal wavelenght [nm]\" ,ylabel = 'signal amplitude [dB]', title='characteristics of all sensors measured in isopropanol')\n",
        "plt.show()"
      ],
      "metadata": {
        "colab": {
          "base_uri": "https://localhost:8080/",
          "height": 295
        },
        "id": "pEMVLWpr8s-V",
        "outputId": "2026cf43-7be1-4890-e3df-c676b4ab6ab8"
      },
      "execution_count": 17,
      "outputs": [
        {
          "output_type": "display_data",
          "data": {
            "text/plain": [
              "<Figure size 432x288 with 1 Axes>"
            ],
            "image/png": "[encoded data removed]"
          },
          "metadata": {
            "needs_background": "light"
          }
        }
      ]
    },
    {
      "cell_type": "markdown",
      "source": [
        "The curves looks similar for each measure. There't any outliers."
      ],
      "metadata": {
        "id": "dGV8XPoAOiuA"
      }
    },
    {
      "cell_type": "markdown",
      "source": [
        "**min and max values of measures in air**"
      ],
      "metadata": {
        "id": "OO0IyxjPPsdK"
      }
    },
    {
      "cell_type": "code",
      "source": [
        "air_sa = df.loc[:, (df.columns.str.startswith('sa') & (df.columns.str.contains('air')))]\n",
        "air_sa['min_value_sa'] = air_sa.min(axis=1)\n",
        "air_sa['max_value_sa'] = air_sa.max(axis=1)\n",
        "air_sa['mean_value_sa'] = air_sa.mean(axis=1)\n",
        "sa_air = air_sa[['min_value_sa', 'max_value_sa', 'mean_value_sa']]"
      ],
      "metadata": {
        "colab": {
          "base_uri": "https://localhost:8080/"
        },
        "id": "GYfw-yPm5lLL",
        "outputId": "efaa5ba7-0c15-4984-be50-eebc6329f454"
      },
      "execution_count": 18,
      "outputs": [
        {
          "output_type": "stream",
          "name": "stderr",
          "text": [
            "<ipython-input-18-254e490de4aa>:2: SettingWithCopyWarning: \n",
            "A value is trying to be set on a copy of a slice from a DataFrame.\n",
            "Try using .loc[row_indexer,col_indexer] = value instead\n",
            "\n",
            "See the caveats in the documentation: https://pandas.pydata.org/pandas-docs/stable/user_guide/indexing.html#returning-a-view-versus-a-copy\n",
            "  air_sa['min_value_sa'] = air_sa.min(axis=1)\n",
            "<ipython-input-18-254e490de4aa>:3: SettingWithCopyWarning: \n",
            "A value is trying to be set on a copy of a slice from a DataFrame.\n",
            "Try using .loc[row_indexer,col_indexer] = value instead\n",
            "\n",
            "See the caveats in the documentation: https://pandas.pydata.org/pandas-docs/stable/user_guide/indexing.html#returning-a-view-versus-a-copy\n",
            "  air_sa['max_value_sa'] = air_sa.max(axis=1)\n",
            "<ipython-input-18-254e490de4aa>:4: SettingWithCopyWarning: \n",
            "A value is trying to be set on a copy of a slice from a DataFrame.\n",
            "Try using .loc[row_indexer,col_indexer] = value instead\n",
            "\n",
            "See the caveats in the documentation: https://pandas.pydata.org/pandas-docs/stable/user_guide/indexing.html#returning-a-view-versus-a-copy\n",
            "  air_sa['mean_value_sa'] = air_sa.mean(axis=1)\n"
          ]
        }
      ]
    },
    {
      "cell_type": "code",
      "source": [
        "air_sw = df.loc[:, (df.columns.str.startswith('sw') & (df.columns.str.contains('air')))]\n",
        "air_sw['min_value_sw'] = air_sw.min(axis=1)\n",
        "air_sw['max_value_sw'] = air_sw.max(axis=1)\n",
        "air_sw['mean_value_sw'] = air_sw.mean(axis=1)\n",
        "sw_air = air_sw[['min_value_sw', 'max_value_sw', 'mean_value_sw']]"
      ],
      "metadata": {
        "colab": {
          "base_uri": "https://localhost:8080/"
        },
        "id": "16C-NsJ_CrIk",
        "outputId": "bf073e91-1bf4-4756-e824-cccaa101c4b0"
      },
      "execution_count": 19,
      "outputs": [
        {
          "output_type": "stream",
          "name": "stderr",
          "text": [
            "<ipython-input-19-4c0ac7a11baa>:2: SettingWithCopyWarning: \n",
            "A value is trying to be set on a copy of a slice from a DataFrame.\n",
            "Try using .loc[row_indexer,col_indexer] = value instead\n",
            "\n",
            "See the caveats in the documentation: https://pandas.pydata.org/pandas-docs/stable/user_guide/indexing.html#returning-a-view-versus-a-copy\n",
            "  air_sw['min_value_sw'] = air_sw.min(axis=1)\n",
            "<ipython-input-19-4c0ac7a11baa>:3: SettingWithCopyWarning: \n",
            "A value is trying to be set on a copy of a slice from a DataFrame.\n",
            "Try using .loc[row_indexer,col_indexer] = value instead\n",
            "\n",
            "See the caveats in the documentation: https://pandas.pydata.org/pandas-docs/stable/user_guide/indexing.html#returning-a-view-versus-a-copy\n",
            "  air_sw['max_value_sw'] = air_sw.max(axis=1)\n",
            "<ipython-input-19-4c0ac7a11baa>:4: SettingWithCopyWarning: \n",
            "A value is trying to be set on a copy of a slice from a DataFrame.\n",
            "Try using .loc[row_indexer,col_indexer] = value instead\n",
            "\n",
            "See the caveats in the documentation: https://pandas.pydata.org/pandas-docs/stable/user_guide/indexing.html#returning-a-view-versus-a-copy\n",
            "  air_sw['mean_value_sw'] = air_sw.mean(axis=1)\n"
          ]
        }
      ]
    },
    {
      "cell_type": "code",
      "source": [
        "lineplot = pd.merge(sa_air, sw_air, left_index=True, right_index=True)\n",
        "g=sns.lineplot(y='min_value_sa', x='min_value_sw', data=lineplot, label='min_values_in_air')\n",
        "g=sns.lineplot(y='max_value_sa', x='max_value_sw', data=lineplot, label='max_values_in_air')\n",
        "g.set(xlabel= \"signal wavelenght [nm]\" ,ylabel = 'signal amplitude [dB]', title='range between min and max values of measures in air')\n",
        "plt.show()"
      ],
      "metadata": {
        "colab": {
          "base_uri": "https://localhost:8080/",
          "height": 295
        },
        "id": "prqN_aFYGxCf",
        "outputId": "0934496b-4f41-4de4-edca-08d54d47832f"
      },
      "execution_count": 21,
      "outputs": [
        {
          "output_type": "display_data",
          "data": {
            "text/plain": [
              "<Figure size 432x288 with 1 Axes>"
            ],
            "image/png": "[encoded data removed]"
          },
          "metadata": {
            "needs_background": "light"
          }
        }
      ]
    },
    {
      "cell_type": "markdown",
      "source": [
        "All curves measured in air are similar "
      ],
      "metadata": {
        "id": "fgK40yHCP4_s"
      }
    },
    {
      "cell_type": "markdown",
      "source": [
        "**Mean values of measures for air, water and izopropanol.**"
      ],
      "metadata": {
        "id": "fyag4mqVu1E3"
      }
    },
    {
      "cell_type": "code",
      "source": [
        "h2o_sa = df.loc[:, (df.columns.str.startswith('sa') & (df.columns.str.contains('water')))]\n",
        "h2o_sa['mean_value_sa'] = h2o_sa.mean(axis=1)\n",
        "h2o_sa_mean = h2o_sa['mean_value_sa']\n",
        "h2o_sw = df.loc[:, (df.columns.str.startswith('sw') & (df.columns.str.contains('water')))]\n",
        "h2o_sw['mean_value_sw'] = h2o_sw.mean(axis=1)\n",
        "h2o_sw_mean = h2o_sw['mean_value_sw']\n",
        "h2o_mean = pd.merge(h2o_sa_mean, h2o_sw_mean, left_index=True, right_index=True)  # mean values for water"
      ],
      "metadata": {
        "colab": {
          "base_uri": "https://localhost:8080/"
        },
        "id": "4boJuiz9Jcap",
        "outputId": "39b45929-52ec-4c4d-aba1-2132768a167f"
      },
      "execution_count": 22,
      "outputs": [
        {
          "output_type": "stream",
          "name": "stderr",
          "text": [
            "<ipython-input-22-af3d52dab39e>:2: SettingWithCopyWarning: \n",
            "A value is trying to be set on a copy of a slice from a DataFrame.\n",
            "Try using .loc[row_indexer,col_indexer] = value instead\n",
            "\n",
            "See the caveats in the documentation: https://pandas.pydata.org/pandas-docs/stable/user_guide/indexing.html#returning-a-view-versus-a-copy\n",
            "  h2o_sa['mean_value_sa'] = h2o_sa.mean(axis=1)\n",
            "<ipython-input-22-af3d52dab39e>:5: SettingWithCopyWarning: \n",
            "A value is trying to be set on a copy of a slice from a DataFrame.\n",
            "Try using .loc[row_indexer,col_indexer] = value instead\n",
            "\n",
            "See the caveats in the documentation: https://pandas.pydata.org/pandas-docs/stable/user_guide/indexing.html#returning-a-view-versus-a-copy\n",
            "  h2o_sw['mean_value_sw'] = h2o_sw.mean(axis=1)\n"
          ]
        }
      ]
    },
    {
      "cell_type": "code",
      "source": [
        "ipa_sa = df.loc[:, (df.columns.str.startswith('sa') & (df.columns.str.contains('izopropanol')))]\n",
        "ipa_sa['mean_value_sa'] = ipa_sa.mean(axis=1)\n",
        "ipa_sa_mean = ipa_sa['mean_value_sa']\n",
        "ipa_sw = df.loc[:, (df.columns.str.startswith('sw') & (df.columns.str.contains('izopropanol')))]\n",
        "ipa_sw['mean_value_sw'] = ipa_sw.mean(axis=1)\n",
        "ipa_sw_mean = ipa_sw['mean_value_sw']\n",
        "ipa_mean = pd.merge(ipa_sa_mean, ipa_sw_mean, left_index=True, right_index=True) # mean values for izopropanol"
      ],
      "metadata": {
        "colab": {
          "base_uri": "https://localhost:8080/"
        },
        "id": "BWVMgb3lVdnl",
        "outputId": "3e71bd0f-4079-4cdc-bd47-d3a14b20b35e"
      },
      "execution_count": 23,
      "outputs": [
        {
          "output_type": "stream",
          "name": "stderr",
          "text": [
            "<ipython-input-23-9425819fbcd9>:2: SettingWithCopyWarning: \n",
            "A value is trying to be set on a copy of a slice from a DataFrame.\n",
            "Try using .loc[row_indexer,col_indexer] = value instead\n",
            "\n",
            "See the caveats in the documentation: https://pandas.pydata.org/pandas-docs/stable/user_guide/indexing.html#returning-a-view-versus-a-copy\n",
            "  ipa_sa['mean_value_sa'] = ipa_sa.mean(axis=1)\n",
            "<ipython-input-23-9425819fbcd9>:5: SettingWithCopyWarning: \n",
            "A value is trying to be set on a copy of a slice from a DataFrame.\n",
            "Try using .loc[row_indexer,col_indexer] = value instead\n",
            "\n",
            "See the caveats in the documentation: https://pandas.pydata.org/pandas-docs/stable/user_guide/indexing.html#returning-a-view-versus-a-copy\n",
            "  ipa_sw['mean_value_sw'] = ipa_sw.mean(axis=1)\n"
          ]
        }
      ]
    },
    {
      "cell_type": "code",
      "source": [
        "g=sns.lineplot(y='mean_value_sa', x='mean_value_sw', data=h2o_mean, label='mean_values_in_h2o')\n",
        "g=sns.lineplot(y='mean_value_sa', x='mean_value_sw', data=lineplot, label='mean_values_in_air')\n",
        "g=sns.lineplot(y='mean_value_sa', x='mean_value_sw', data=ipa_mean, label='mean_values_in_ipa')\n",
        "g.set(xlabel= \"signal wavelenght [nm]\" ,ylabel = 'signal amplitude [dB]', title='mean values from 10 sensors')\n",
        "plt.show()"
      ],
      "metadata": {
        "colab": {
          "base_uri": "https://localhost:8080/",
          "height": 295
        },
        "id": "C3UHrmi0n0Yg",
        "outputId": "4db257c9-0e04-4461-b747-d33258dcaeee"
      },
      "execution_count": 24,
      "outputs": [
        {
          "output_type": "display_data",
          "data": {
            "text/plain": [
              "<Figure size 432x288 with 1 Axes>"
            ],
            "image/png": "[encoded data removed]"
          },
          "metadata": {
            "needs_background": "light"
          }
        }
      ]
    },
    {
      "cell_type": "markdown",
      "source": [
        "**Predict points on water curve with values from air curve**"
      ],
      "metadata": {
        "id": "QzpH2z7ztofW"
      }
    },
    {
      "cell_type": "markdown",
      "source": [
        "1. Signal amplitude (sa) at first"
      ],
      "metadata": {
        "id": "cuc1xTRL0KuL"
      }
    },
    {
      "cell_type": "code",
      "source": [
        "air_sw = df.loc[:, (df.columns.str.startswith('sw') & (df.columns.str.contains('air')))]\n",
        "air_sa = df.loc[:, (df.columns.str.startswith('sa') & (df.columns.str.contains('air')))]"
      ],
      "metadata": {
        "id": "wBaGmWhPqZ87"
      },
      "execution_count": 65,
      "outputs": []
    },
    {
      "cell_type": "code",
      "source": [
        "sa_air_h2o = pd.merge(air_sa, h2o_sa_mean, left_index=True, right_index=True)\n",
        "sa_air_h2o"
      ],
      "metadata": {
        "colab": {
          "base_uri": "https://localhost:8080/",
          "height": 468
        },
        "id": "HfDxj4Onuncp",
        "outputId": "4c3972f4-150b-496c-8e1f-0520dab1e860"
      },
      "execution_count": 66,
      "outputs": [
        {
          "output_type": "execute_result",
          "data": {
            "text/plain": [
              "      sa.sensor05_air  sa.sensor04_air  sa.sensor08_air  sa.sensor07_air  \\\n",
              "0              9.4439           8.0963           9.9081           8.8064   \n",
              "1              9.6645           8.1872          10.0010           8.9714   \n",
              "2              9.5697           8.2061           9.9366           8.9747   \n",
              "3              9.6378           8.1094           9.8126           8.8461   \n",
              "4              9.4933           7.9691           9.8773           8.8265   \n",
              "...               ...              ...              ...              ...   \n",
              "2996           2.8330           1.5783           3.7791           2.9408   \n",
              "2997           2.9789           1.7888           3.6568           3.2277   \n",
              "2998           2.7841           1.3259           3.7064           2.8527   \n",
              "2999           2.9465           1.6945           3.7920           3.3101   \n",
              "3000           3.0680           1.9239           4.0038           3.2780   \n",
              "\n",
              "      sa.sensor09_air  sa.sensor10_air  sa.sensor03_air  sa.sensor01_air  \\\n",
              "0              8.6910           9.2124           7.8831           9.1792   \n",
              "1              8.7223           9.2734           8.0971           9.2003   \n",
              "2              8.7796           9.1703           7.9478           9.1968   \n",
              "3              8.6753           9.2478           7.9979           9.1028   \n",
              "4              8.6667           9.0771           7.9220           9.0601   \n",
              "...               ...              ...              ...              ...   \n",
              "2996           2.7312           3.2784           2.3074           3.8310   \n",
              "2997           2.7287           3.4213           2.3935           3.8613   \n",
              "2998           2.5725           3.3112           2.2550           3.8361   \n",
              "2999           2.7335           3.4500           2.4935           3.9466   \n",
              "3000           2.9142           3.6370           2.4934           3.8974   \n",
              "\n",
              "      sa.sensor06_air  sa.sensor02_air  mean_value_sa  \n",
              "0              9.4554           9.7793       8.294310  \n",
              "1              9.6052           9.8643       8.398190  \n",
              "2              9.6264           9.8031       8.345490  \n",
              "3              9.5136           9.7320       8.317480  \n",
              "4              9.4042           9.6895       8.250110  \n",
              "...               ...              ...            ...  \n",
              "2996           2.4787           3.5505      -1.320583  \n",
              "2997           2.9384           3.8237      -1.282892  \n",
              "2998           2.4859           3.6708      -1.391228  \n",
              "2999           2.9317           3.8785      -1.165640  \n",
              "3000           2.8220           3.8886      -1.082724  \n",
              "\n",
              "[3001 rows x 11 columns]"
            ],
            "text/html": [
              "\n",
              "  <div id=\"df-5b54f868-a426-4ccc-87f9-0abd7e4a10ae\">\n",
              "    <div class=\"colab-df-container\">\n",
              "      <div>\n",
              "<style scoped>\n",
              "    .dataframe tbody tr th:only-of-type {\n",
              "        vertical-align: middle;\n",
              "    }\n",
              "\n",
              "    .dataframe tbody tr th {\n",
              "        vertical-align: top;\n",
              "    }\n",
              "\n",
              "    .dataframe thead th {\n",
              "        text-align: right;\n",
              "    }\n",
              "</style>\n",
              "<table border=\"1\" class=\"dataframe\">\n",
              "  <thead>\n",
              "    <tr style=\"text-align: right;\">\n",
              "      <th></th>\n",
              "      <th>sa.sensor05_air</th>\n",
              "      <th>sa.sensor04_air</th>\n",
              "      <th>sa.sensor08_air</th>\n",
              "      <th>sa.sensor07_air</th>\n",
              "      <th>sa.sensor09_air</th>\n",
              "      <th>sa.sensor10_air</th>\n",
              "      <th>sa.sensor03_air</th>\n",
              "      <th>sa.sensor01_air</th>\n",
              "      <th>sa.sensor06_air</th>\n",
              "      <th>sa.sensor02_air</th>\n",
              "      <th>mean_value_sa</th>\n",
              "    </tr>\n",
              "  </thead>\n",
              "  <tbody>\n",
              "    <tr>\n",
              "      <th>0</th>\n",
              "      <td>9.4439</td>\n",
              "      <td>8.0963</td>\n",
              "      <td>9.9081</td>\n",
              "      <td>8.8064</td>\n",
              "      <td>8.6910</td>\n",
              "      <td>9.2124</td>\n",
              "      <td>7.8831</td>\n",
              "      <td>9.1792</td>\n",
              "      <td>9.4554</td>\n",
              "      <td>9.7793</td>\n",
              "      <td>8.294310</td>\n",
              "    </tr>\n",
              "    <tr>\n",
              "      <th>1</th>\n",
              "      <td>9.6645</td>\n",
              "      <td>8.1872</td>\n",
              "      <td>10.0010</td>\n",
              "      <td>8.9714</td>\n",
              "      <td>8.7223</td>\n",
              "      <td>9.2734</td>\n",
              "      <td>8.0971</td>\n",
              "      <td>9.2003</td>\n",
              "      <td>9.6052</td>\n",
              "      <td>9.8643</td>\n",
              "      <td>8.398190</td>\n",
              "    </tr>\n",
              "    <tr>\n",
              "      <th>2</th>\n",
              "      <td>9.5697</td>\n",
              "      <td>8.2061</td>\n",
              "      <td>9.9366</td>\n",
              "      <td>8.9747</td>\n",
              "      <td>8.7796</td>\n",
              "      <td>9.1703</td>\n",
              "      <td>7.9478</td>\n",
              "      <td>9.1968</td>\n",
              "      <td>9.6264</td>\n",
              "      <td>9.8031</td>\n",
              "      <td>8.345490</td>\n",
              "    </tr>\n",
              "    <tr>\n",
              "      <th>3</th>\n",
              "      <td>9.6378</td>\n",
              "      <td>8.1094</td>\n",
              "      <td>9.8126</td>\n",
              "      <td>8.8461</td>\n",
              "      <td>8.6753</td>\n",
              "      <td>9.2478</td>\n",
              "      <td>7.9979</td>\n",
              "      <td>9.1028</td>\n",
              "      <td>9.5136</td>\n",
              "      <td>9.7320</td>\n",
              "      <td>8.317480</td>\n",
              "    </tr>\n",
              "    <tr>\n",
              "      <th>4</th>\n",
              "      <td>9.4933</td>\n",
              "      <td>7.9691</td>\n",
              "      <td>9.8773</td>\n",
              "      <td>8.8265</td>\n",
              "      <td>8.6667</td>\n",
              "      <td>9.0771</td>\n",
              "      <td>7.9220</td>\n",
              "      <td>9.0601</td>\n",
              "      <td>9.4042</td>\n",
              "      <td>9.6895</td>\n",
              "      <td>8.250110</td>\n",
              "    </tr>\n",
              "    <tr>\n",
              "      <th>...</th>\n",
              "      <td>...</td>\n",
              "      <td>...</td>\n",
              "      <td>...</td>\n",
              "      <td>...</td>\n",
              "      <td>...</td>\n",
              "      <td>...</td>\n",
              "      <td>...</td>\n",
              "      <td>...</td>\n",
              "      <td>...</td>\n",
              "      <td>...</td>\n",
              "      <td>...</td>\n",
              "    </tr>\n",
              "    <tr>\n",
              "      <th>2996</th>\n",
              "      <td>2.8330</td>\n",
              "      <td>1.5783</td>\n",
              "      <td>3.7791</td>\n",
              "      <td>2.9408</td>\n",
              "      <td>2.7312</td>\n",
              "      <td>3.2784</td>\n",
              "      <td>2.3074</td>\n",
              "      <td>3.8310</td>\n",
              "      <td>2.4787</td>\n",
              "      <td>3.5505</td>\n",
              "      <td>-1.320583</td>\n",
              "    </tr>\n",
              "    <tr>\n",
              "      <th>2997</th>\n",
              "      <td>2.9789</td>\n",
              "      <td>1.7888</td>\n",
              "      <td>3.6568</td>\n",
              "      <td>3.2277</td>\n",
              "      <td>2.7287</td>\n",
              "      <td>3.4213</td>\n",
              "      <td>2.3935</td>\n",
              "      <td>3.8613</td>\n",
              "      <td>2.9384</td>\n",
              "      <td>3.8237</td>\n",
              "      <td>-1.282892</td>\n",
              "    </tr>\n",
              "    <tr>\n",
              "      <th>2998</th>\n",
              "      <td>2.7841</td>\n",
              "      <td>1.3259</td>\n",
              "      <td>3.7064</td>\n",
              "      <td>2.8527</td>\n",
              "      <td>2.5725</td>\n",
              "      <td>3.3112</td>\n",
              "      <td>2.2550</td>\n",
              "      <td>3.8361</td>\n",
              "      <td>2.4859</td>\n",
              "      <td>3.6708</td>\n",
              "      <td>-1.391228</td>\n",
              "    </tr>\n",
              "    <tr>\n",
              "      <th>2999</th>\n",
              "      <td>2.9465</td>\n",
              "      <td>1.6945</td>\n",
              "      <td>3.7920</td>\n",
              "      <td>3.3101</td>\n",
              "      <td>2.7335</td>\n",
              "      <td>3.4500</td>\n",
              "      <td>2.4935</td>\n",
              "      <td>3.9466</td>\n",
              "      <td>2.9317</td>\n",
              "      <td>3.8785</td>\n",
              "      <td>-1.165640</td>\n",
              "    </tr>\n",
              "    <tr>\n",
              "      <th>3000</th>\n",
              "      <td>3.0680</td>\n",
              "      <td>1.9239</td>\n",
              "      <td>4.0038</td>\n",
              "      <td>3.2780</td>\n",
              "      <td>2.9142</td>\n",
              "      <td>3.6370</td>\n",
              "      <td>2.4934</td>\n",
              "      <td>3.8974</td>\n",
              "      <td>2.8220</td>\n",
              "      <td>3.8886</td>\n",
              "      <td>-1.082724</td>\n",
              "    </tr>\n",
              "  </tbody>\n",
              "</table>\n",
              "<p>3001 rows × 11 columns</p>\n",
              "</div>\n",
              "      <button class=\"colab-df-convert\" onclick=\"convertToInteractive('df-5b54f868-a426-4ccc-87f9-0abd7e4a10ae')\"\n",
              "              title=\"Convert this dataframe to an interactive table.\"\n",
              "              style=\"display:none;\">\n",
              "        \n",
              "  <svg xmlns=\"http://www.w3.org/2000/svg\" height=\"24px\"viewBox=\"0 0 24 24\"\n",
              "       width=\"24px\">\n",
              "    <path d=\"M0 0h24v24H0V0z\" fill=\"none\"/>\n",
              "    <path d=\"M18.56 5.44l.94 2.06.94-2.06 2.06-.94-2.06-.94-.94-2.06-.94 2.06-2.06.94zm-11 1L8.5 8.5l.94-2.06 2.06-.94-2.06-.94L8.5 2.5l-.94 2.06-2.06.94zm10 10l.94 2.06.94-2.06 2.06-.94-2.06-.94-.94-2.06-.94 2.06-2.06.94z\"/><path d=\"M17.41 7.96l-1.37-1.37c-.4-.4-.92-.59-1.43-.59-.52 0-1.04.2-1.43.59L10.3 9.45l-7.72 7.72c-.78.78-.78 2.05 0 2.83L4 21.41c.39.39.9.59 1.41.59.51 0 1.02-.2 1.41-.59l7.78-7.78 2.81-2.81c.8-.78.8-2.07 0-2.86zM5.41 20L4 18.59l7.72-7.72 1.47 1.35L5.41 20z\"/>\n",
              "  </svg>\n",
              "      </button>\n",
              "      \n",
              "  <style>\n",
              "    .colab-df-container {\n",
              "      display:flex;\n",
              "      flex-wrap:wrap;\n",
              "      gap: 12px;\n",
              "    }\n",
              "\n",
              "    .colab-df-convert {\n",
              "      background-color: #E8F0FE;\n",
              "      border: none;\n",
              "      border-radius: 50%;\n",
              "      cursor: pointer;\n",
              "      display: none;\n",
              "      fill: #1967D2;\n",
              "      height: 32px;\n",
              "      padding: 0 0 0 0;\n",
              "      width: 32px;\n",
              "    }\n",
              "\n",
              "    .colab-df-convert:hover {\n",
              "      background-color: #E2EBFA;\n",
              "      box-shadow: 0px 1px 2px rgba(60, 64, 67, 0.3), 0px 1px 3px 1px rgba(60, 64, 67, 0.15);\n",
              "      fill: #174EA6;\n",
              "    }\n",
              "\n",
              "    [theme=dark] .colab-df-convert {\n",
              "      background-color: #3B4455;\n",
              "      fill: #D2E3FC;\n",
              "    }\n",
              "\n",
              "    [theme=dark] .colab-df-convert:hover {\n",
              "      background-color: #434B5C;\n",
              "      box-shadow: 0px 1px 3px 1px rgba(0, 0, 0, 0.15);\n",
              "      filter: drop-shadow(0px 1px 2px rgba(0, 0, 0, 0.3));\n",
              "      fill: #FFFFFF;\n",
              "    }\n",
              "  </style>\n",
              "\n",
              "      <script>\n",
              "        const buttonEl =\n",
              "          document.querySelector('#df-5b54f868-a426-4ccc-87f9-0abd7e4a10ae button.colab-df-convert');\n",
              "        buttonEl.style.display =\n",
              "          google.colab.kernel.accessAllowed ? 'block' : 'none';\n",
              "\n",
              "        async function convertToInteractive(key) {\n",
              "          const element = document.querySelector('#df-5b54f868-a426-4ccc-87f9-0abd7e4a10ae');\n",
              "          const dataTable =\n",
              "            await google.colab.kernel.invokeFunction('convertToInteractive',\n",
              "                                                     [key], {});\n",
              "          if (!dataTable) return;\n",
              "\n",
              "          const docLinkHtml = 'Like what you see? Visit the ' +\n",
              "            '<a target=\"_blank\" href=https://colab.research.google.com/notebooks/data_table.ipynb>data table notebook</a>'\n",
              "            + ' to learn more about interactive tables.';\n",
              "          element.innerHTML = '';\n",
              "          dataTable['output_type'] = 'display_data';\n",
              "          await google.colab.output.renderOutput(dataTable, element);\n",
              "          const docLink = document.createElement('div');\n",
              "          docLink.innerHTML = docLinkHtml;\n",
              "          element.appendChild(docLink);\n",
              "        }\n",
              "      </script>\n",
              "    </div>\n",
              "  </div>\n",
              "  "
            ]
          },
          "metadata": {},
          "execution_count": 66
        }
      ]
    },
    {
      "cell_type": "code",
      "source": [
        "X1 = sa_air_h2o.drop(columns=['mean_value_sa'])   # values from air curve from each point\n",
        "y1 = sa_air_h2o['mean_value_sa']          # mean value for water curve for each point"
      ],
      "metadata": {
        "id": "PJexrgvmvZvH"
      },
      "execution_count": 69,
      "outputs": []
    },
    {
      "cell_type": "code",
      "source": [
        "from sklearn.preprocessing import StandardScaler\n",
        "from sklearn.model_selection import train_test_split\n",
        "X_train1,X_test1,y_train1,y_test1 = train_test_split(X1,y1,test_size=0.2,random_state=1)\n",
        "scaler = StandardScaler()\n",
        "scaler.fit(X_train1)\n",
        "X_train1 = scaler.transform(X_train1)\n",
        "X_test1 = scaler.transform(X_test1)"
      ],
      "metadata": {
        "id": "lYTLz2oWv6yS"
      },
      "execution_count": 71,
      "outputs": []
    },
    {
      "cell_type": "code",
      "source": [
        "# Modelling Libraries\n",
        "from sklearn.linear_model import LinearRegression, Ridge, Lasso, BayesianRidge, SGDRegressor\n",
        "from sklearn.ensemble import RandomForestRegressor, GradientBoostingRegressor\n",
        "from xgboost import XGBRegressor\n",
        "from lightgbm import LGBMRegressor\n",
        "\n",
        "# Evaluation & CV Libraries\n",
        "from sklearn.metrics import r2_score,mean_absolute_error,mean_squared_error,explained_variance_score\n",
        "from sklearn.model_selection import GridSearchCV, RepeatedStratifiedKFold, cross_val_score, KFold"
      ],
      "metadata": {
        "id": "F4SCYC6PwS5R"
      },
      "execution_count": 51,
      "outputs": []
    },
    {
      "cell_type": "code",
      "source": [
        "models = [('RF',RandomForestRegressor(random_state=1)), ('XGB', XGBRegressor(random_state=1)), (\"LR\", LinearRegression()), (\"RDG\", Ridge(random_state=1)), (\"LAS\", Lasso(random_state=1)), \n",
        "          (\"BR\", BayesianRidge()), (\"SGD\", SGDRegressor(random_state=1)), (\"LGBM\",LGBMRegressor(random_state=1)), ('GBR',GradientBoostingRegressor(random_state=1))]\n",
        "\n",
        "results = []\n",
        "names = []\n",
        "finalResults = []\n",
        "\n",
        "for name,model in models:\n",
        "    model.fit(X_train1, y_train1)\n",
        "    model_results = model.predict(X_test1)\n",
        "    score = r2_score(y_test1, model_results)\n",
        "    results.append(score)\n",
        "    names.append(name)\n",
        "    finalResults.append((name,score))\n",
        "    \n",
        "finalResults.sort(key=lambda k:k[1],reverse=True)\n",
        "\n",
        "finalResults"
      ],
      "metadata": {
        "id": "77KkiBbZwgqC",
        "colab": {
          "base_uri": "https://localhost:8080/"
        },
        "outputId": "8a15e454-c9e3-4099-8f0c-bc82742b5c7f"
      },
      "execution_count": 72,
      "outputs": [
        {
          "output_type": "execute_result",
          "data": {
            "text/plain": [
              "[('RF', 0.999667845288253),\n",
              " ('XGB', 0.9993844757254131),\n",
              " ('LGBM', 0.9993552925805131),\n",
              " ('GBR', 0.9984379769338861),\n",
              " ('BR', 0.9951066649355682),\n",
              " ('LR', 0.9951045544231218),\n",
              " ('RDG', 0.9945492717097925),\n",
              " ('SGD', 0.9918625755044163),\n",
              " ('LAS', 0.866808898967236)]"
            ]
          },
          "metadata": {},
          "execution_count": 72
        }
      ]
    },
    {
      "cell_type": "markdown",
      "source": [
        "2. The same for signal wavelenght (sw)"
      ],
      "metadata": {
        "id": "Kunl31N00UvJ"
      }
    },
    {
      "cell_type": "code",
      "source": [
        "sw_air_h2o = pd.merge(air_sw, h2o_sw_mean, left_index=True, right_index=True)\n",
        "sw_air_h2o"
      ],
      "metadata": {
        "colab": {
          "base_uri": "https://localhost:8080/",
          "height": 468
        },
        "id": "C0SRxgrtyMKo",
        "outputId": "7c87721c-456b-4705-85cf-6391804179ec"
      },
      "execution_count": 54,
      "outputs": [
        {
          "output_type": "execute_result",
          "data": {
            "text/plain": [
              "      sw.sensor05_air  sw.sensor04_air  sw.sensor08_air  sw.sensor07_air  \\\n",
              "0            0.000001         0.000001         0.000001         0.000001   \n",
              "1            0.000001         0.000001         0.000001         0.000001   \n",
              "2            0.000001         0.000001         0.000001         0.000001   \n",
              "3            0.000001         0.000001         0.000001         0.000001   \n",
              "4            0.000001         0.000001         0.000001         0.000001   \n",
              "...               ...              ...              ...              ...   \n",
              "2996         0.000002         0.000002         0.000002         0.000002   \n",
              "2997         0.000002         0.000002         0.000002         0.000002   \n",
              "2998         0.000002         0.000002         0.000002         0.000002   \n",
              "2999         0.000002         0.000002         0.000002         0.000002   \n",
              "3000         0.000002         0.000002         0.000002         0.000002   \n",
              "\n",
              "      sw.sensor09_air  sw.sensor10_air  sw.sensor03_air  sw.sensor01_air  \\\n",
              "0            0.000001         0.000001         0.000001         0.000001   \n",
              "1            0.000001         0.000001         0.000001         0.000001   \n",
              "2            0.000001         0.000001         0.000001         0.000001   \n",
              "3            0.000001         0.000001         0.000001         0.000001   \n",
              "4            0.000001         0.000001         0.000001         0.000001   \n",
              "...               ...              ...              ...              ...   \n",
              "2996         0.000002         0.000002         0.000002         0.000002   \n",
              "2997         0.000002         0.000002         0.000002         0.000002   \n",
              "2998         0.000002         0.000002         0.000002         0.000002   \n",
              "2999         0.000002         0.000002         0.000002         0.000002   \n",
              "3000         0.000002         0.000002         0.000002         0.000002   \n",
              "\n",
              "      sw.sensor06_air  sw.sensor02_air  mean_value_sw  \n",
              "0            0.000001         0.000001       0.000001  \n",
              "1            0.000001         0.000001       0.000001  \n",
              "2            0.000001         0.000001       0.000001  \n",
              "3            0.000001         0.000001       0.000001  \n",
              "4            0.000001         0.000001       0.000001  \n",
              "...               ...              ...            ...  \n",
              "2996         0.000002         0.000002       0.000002  \n",
              "2997         0.000002         0.000002       0.000002  \n",
              "2998         0.000002         0.000002       0.000002  \n",
              "2999         0.000002         0.000002       0.000002  \n",
              "3000         0.000002         0.000002       0.000002  \n",
              "\n",
              "[3001 rows x 11 columns]"
            ],
            "text/html": [
              "\n",
              "  <div id=\"df-64fd59b3-e3f3-4910-b1d2-b1f38fffebb8\">\n",
              "    <div class=\"colab-df-container\">\n",
              "      <div>\n",
              "<style scoped>\n",
              "    .dataframe tbody tr th:only-of-type {\n",
              "        vertical-align: middle;\n",
              "    }\n",
              "\n",
              "    .dataframe tbody tr th {\n",
              "        vertical-align: top;\n",
              "    }\n",
              "\n",
              "    .dataframe thead th {\n",
              "        text-align: right;\n",
              "    }\n",
              "</style>\n",
              "<table border=\"1\" class=\"dataframe\">\n",
              "  <thead>\n",
              "    <tr style=\"text-align: right;\">\n",
              "      <th></th>\n",
              "      <th>sw.sensor05_air</th>\n",
              "      <th>sw.sensor04_air</th>\n",
              "      <th>sw.sensor08_air</th>\n",
              "      <th>sw.sensor07_air</th>\n",
              "      <th>sw.sensor09_air</th>\n",
              "      <th>sw.sensor10_air</th>\n",
              "      <th>sw.sensor03_air</th>\n",
              "      <th>sw.sensor01_air</th>\n",
              "      <th>sw.sensor06_air</th>\n",
              "      <th>sw.sensor02_air</th>\n",
              "      <th>mean_value_sw</th>\n",
              "    </tr>\n",
              "  </thead>\n",
              "  <tbody>\n",
              "    <tr>\n",
              "      <th>0</th>\n",
              "      <td>0.000001</td>\n",
              "      <td>0.000001</td>\n",
              "      <td>0.000001</td>\n",
              "      <td>0.000001</td>\n",
              "      <td>0.000001</td>\n",
              "      <td>0.000001</td>\n",
              "      <td>0.000001</td>\n",
              "      <td>0.000001</td>\n",
              "      <td>0.000001</td>\n",
              "      <td>0.000001</td>\n",
              "      <td>0.000001</td>\n",
              "    </tr>\n",
              "    <tr>\n",
              "      <th>1</th>\n",
              "      <td>0.000001</td>\n",
              "      <td>0.000001</td>\n",
              "      <td>0.000001</td>\n",
              "      <td>0.000001</td>\n",
              "      <td>0.000001</td>\n",
              "      <td>0.000001</td>\n",
              "      <td>0.000001</td>\n",
              "      <td>0.000001</td>\n",
              "      <td>0.000001</td>\n",
              "      <td>0.000001</td>\n",
              "      <td>0.000001</td>\n",
              "    </tr>\n",
              "    <tr>\n",
              "      <th>2</th>\n",
              "      <td>0.000001</td>\n",
              "      <td>0.000001</td>\n",
              "      <td>0.000001</td>\n",
              "      <td>0.000001</td>\n",
              "      <td>0.000001</td>\n",
              "      <td>0.000001</td>\n",
              "      <td>0.000001</td>\n",
              "      <td>0.000001</td>\n",
              "      <td>0.000001</td>\n",
              "      <td>0.000001</td>\n",
              "      <td>0.000001</td>\n",
              "    </tr>\n",
              "    <tr>\n",
              "      <th>3</th>\n",
              "      <td>0.000001</td>\n",
              "      <td>0.000001</td>\n",
              "      <td>0.000001</td>\n",
              "      <td>0.000001</td>\n",
              "      <td>0.000001</td>\n",
              "      <td>0.000001</td>\n",
              "      <td>0.000001</td>\n",
              "      <td>0.000001</td>\n",
              "      <td>0.000001</td>\n",
              "      <td>0.000001</td>\n",
              "      <td>0.000001</td>\n",
              "    </tr>\n",
              "    <tr>\n",
              "      <th>4</th>\n",
              "      <td>0.000001</td>\n",
              "      <td>0.000001</td>\n",
              "      <td>0.000001</td>\n",
              "      <td>0.000001</td>\n",
              "      <td>0.000001</td>\n",
              "      <td>0.000001</td>\n",
              "      <td>0.000001</td>\n",
              "      <td>0.000001</td>\n",
              "      <td>0.000001</td>\n",
              "      <td>0.000001</td>\n",
              "      <td>0.000001</td>\n",
              "    </tr>\n",
              "    <tr>\n",
              "      <th>...</th>\n",
              "      <td>...</td>\n",
              "      <td>...</td>\n",
              "      <td>...</td>\n",
              "      <td>...</td>\n",
              "      <td>...</td>\n",
              "      <td>...</td>\n",
              "      <td>...</td>\n",
              "      <td>...</td>\n",
              "      <td>...</td>\n",
              "      <td>...</td>\n",
              "      <td>...</td>\n",
              "    </tr>\n",
              "    <tr>\n",
              "      <th>2996</th>\n",
              "      <td>0.000002</td>\n",
              "      <td>0.000002</td>\n",
              "      <td>0.000002</td>\n",
              "      <td>0.000002</td>\n",
              "      <td>0.000002</td>\n",
              "      <td>0.000002</td>\n",
              "      <td>0.000002</td>\n",
              "      <td>0.000002</td>\n",
              "      <td>0.000002</td>\n",
              "      <td>0.000002</td>\n",
              "      <td>0.000002</td>\n",
              "    </tr>\n",
              "    <tr>\n",
              "      <th>2997</th>\n",
              "      <td>0.000002</td>\n",
              "      <td>0.000002</td>\n",
              "      <td>0.000002</td>\n",
              "      <td>0.000002</td>\n",
              "      <td>0.000002</td>\n",
              "      <td>0.000002</td>\n",
              "      <td>0.000002</td>\n",
              "      <td>0.000002</td>\n",
              "      <td>0.000002</td>\n",
              "      <td>0.000002</td>\n",
              "      <td>0.000002</td>\n",
              "    </tr>\n",
              "    <tr>\n",
              "      <th>2998</th>\n",
              "      <td>0.000002</td>\n",
              "      <td>0.000002</td>\n",
              "      <td>0.000002</td>\n",
              "      <td>0.000002</td>\n",
              "      <td>0.000002</td>\n",
              "      <td>0.000002</td>\n",
              "      <td>0.000002</td>\n",
              "      <td>0.000002</td>\n",
              "      <td>0.000002</td>\n",
              "      <td>0.000002</td>\n",
              "      <td>0.000002</td>\n",
              "    </tr>\n",
              "    <tr>\n",
              "      <th>2999</th>\n",
              "      <td>0.000002</td>\n",
              "      <td>0.000002</td>\n",
              "      <td>0.000002</td>\n",
              "      <td>0.000002</td>\n",
              "      <td>0.000002</td>\n",
              "      <td>0.000002</td>\n",
              "      <td>0.000002</td>\n",
              "      <td>0.000002</td>\n",
              "      <td>0.000002</td>\n",
              "      <td>0.000002</td>\n",
              "      <td>0.000002</td>\n",
              "    </tr>\n",
              "    <tr>\n",
              "      <th>3000</th>\n",
              "      <td>0.000002</td>\n",
              "      <td>0.000002</td>\n",
              "      <td>0.000002</td>\n",
              "      <td>0.000002</td>\n",
              "      <td>0.000002</td>\n",
              "      <td>0.000002</td>\n",
              "      <td>0.000002</td>\n",
              "      <td>0.000002</td>\n",
              "      <td>0.000002</td>\n",
              "      <td>0.000002</td>\n",
              "      <td>0.000002</td>\n",
              "    </tr>\n",
              "  </tbody>\n",
              "</table>\n",
              "<p>3001 rows × 11 columns</p>\n",
              "</div>\n",
              "      <button class=\"colab-df-convert\" onclick=\"convertToInteractive('df-64fd59b3-e3f3-4910-b1d2-b1f38fffebb8')\"\n",
              "              title=\"Convert this dataframe to an interactive table.\"\n",
              "              style=\"display:none;\">\n",
              "        \n",
              "  <svg xmlns=\"http://www.w3.org/2000/svg\" height=\"24px\"viewBox=\"0 0 24 24\"\n",
              "       width=\"24px\">\n",
              "    <path d=\"M0 0h24v24H0V0z\" fill=\"none\"/>\n",
              "    <path d=\"M18.56 5.44l.94 2.06.94-2.06 2.06-.94-2.06-.94-.94-2.06-.94 2.06-2.06.94zm-11 1L8.5 8.5l.94-2.06 2.06-.94-2.06-.94L8.5 2.5l-.94 2.06-2.06.94zm10 10l.94 2.06.94-2.06 2.06-.94-2.06-.94-.94-2.06-.94 2.06-2.06.94z\"/><path d=\"M17.41 7.96l-1.37-1.37c-.4-.4-.92-.59-1.43-.59-.52 0-1.04.2-1.43.59L10.3 9.45l-7.72 7.72c-.78.78-.78 2.05 0 2.83L4 21.41c.39.39.9.59 1.41.59.51 0 1.02-.2 1.41-.59l7.78-7.78 2.81-2.81c.8-.78.8-2.07 0-2.86zM5.41 20L4 18.59l7.72-7.72 1.47 1.35L5.41 20z\"/>\n",
              "  </svg>\n",
              "      </button>\n",
              "      \n",
              "  <style>\n",
              "    .colab-df-container {\n",
              "      display:flex;\n",
              "      flex-wrap:wrap;\n",
              "      gap: 12px;\n",
              "    }\n",
              "\n",
              "    .colab-df-convert {\n",
              "      background-color: #E8F0FE;\n",
              "      border: none;\n",
              "      border-radius: 50%;\n",
              "      cursor: pointer;\n",
              "      display: none;\n",
              "      fill: #1967D2;\n",
              "      height: 32px;\n",
              "      padding: 0 0 0 0;\n",
              "      width: 32px;\n",
              "    }\n",
              "\n",
              "    .colab-df-convert:hover {\n",
              "      background-color: #E2EBFA;\n",
              "      box-shadow: 0px 1px 2px rgba(60, 64, 67, 0.3), 0px 1px 3px 1px rgba(60, 64, 67, 0.15);\n",
              "      fill: #174EA6;\n",
              "    }\n",
              "\n",
              "    [theme=dark] .colab-df-convert {\n",
              "      background-color: #3B4455;\n",
              "      fill: #D2E3FC;\n",
              "    }\n",
              "\n",
              "    [theme=dark] .colab-df-convert:hover {\n",
              "      background-color: #434B5C;\n",
              "      box-shadow: 0px 1px 3px 1px rgba(0, 0, 0, 0.15);\n",
              "      filter: drop-shadow(0px 1px 2px rgba(0, 0, 0, 0.3));\n",
              "      fill: #FFFFFF;\n",
              "    }\n",
              "  </style>\n",
              "\n",
              "      <script>\n",
              "        const buttonEl =\n",
              "          document.querySelector('#df-64fd59b3-e3f3-4910-b1d2-b1f38fffebb8 button.colab-df-convert');\n",
              "        buttonEl.style.display =\n",
              "          google.colab.kernel.accessAllowed ? 'block' : 'none';\n",
              "\n",
              "        async function convertToInteractive(key) {\n",
              "          const element = document.querySelector('#df-64fd59b3-e3f3-4910-b1d2-b1f38fffebb8');\n",
              "          const dataTable =\n",
              "            await google.colab.kernel.invokeFunction('convertToInteractive',\n",
              "                                                     [key], {});\n",
              "          if (!dataTable) return;\n",
              "\n",
              "          const docLinkHtml = 'Like what you see? Visit the ' +\n",
              "            '<a target=\"_blank\" href=https://colab.research.google.com/notebooks/data_table.ipynb>data table notebook</a>'\n",
              "            + ' to learn more about interactive tables.';\n",
              "          element.innerHTML = '';\n",
              "          dataTable['output_type'] = 'display_data';\n",
              "          await google.colab.output.renderOutput(dataTable, element);\n",
              "          const docLink = document.createElement('div');\n",
              "          docLink.innerHTML = docLinkHtml;\n",
              "          element.appendChild(docLink);\n",
              "        }\n",
              "      </script>\n",
              "    </div>\n",
              "  </div>\n",
              "  "
            ]
          },
          "metadata": {},
          "execution_count": 54
        }
      ]
    },
    {
      "cell_type": "code",
      "source": [
        "X2 = sw_air_h2o.drop(columns=['mean_value_sw'])   # values from air curve from each point\n",
        "y2 = sw_air_h2o['mean_value_sw']          # mean value for water curve for each point"
      ],
      "metadata": {
        "id": "c3uRhrBG0s52"
      },
      "execution_count": 75,
      "outputs": []
    },
    {
      "cell_type": "code",
      "source": [
        "X_train2,X_test2,y_train2,y_test2 = train_test_split(X2,y2,test_size=0.2,random_state=1)\n",
        "scaler = StandardScaler()\n",
        "scaler.fit(X_train2)\n",
        "X_train2 = scaler.transform(X_train2)\n",
        "X_test2 = scaler.transform(X_test2)"
      ],
      "metadata": {
        "id": "L-lLfQXD06vP"
      },
      "execution_count": 76,
      "outputs": []
    },
    {
      "cell_type": "code",
      "source": [
        "models = [('RF',RandomForestRegressor(random_state=1)), ('XGB', XGBRegressor(random_state=1)), (\"LR\", LinearRegression()), (\"RDG\", Ridge(random_state=1)), (\"LAS\", Lasso(random_state=1)), \n",
        "          (\"BR\", BayesianRidge()), (\"SGD\", SGDRegressor(random_state=1)), (\"LGBM\",LGBMRegressor(random_state=1)), ('GBR',GradientBoostingRegressor(random_state=1))]\n",
        "\n",
        "results = []\n",
        "names = []\n",
        "finalResults = []\n",
        "\n",
        "for name,model in models:\n",
        "    model.fit(X_train2, y_train2)\n",
        "    model_results = model.predict(X_test2)\n",
        "    score = r2_score(y_test2, model_results)\n",
        "    results.append(score)\n",
        "    names.append(name)\n",
        "    finalResults.append((name,score))\n",
        "    \n",
        "finalResults.sort(key=lambda k:k[1],reverse=True)\n",
        "\n",
        "finalResults"
      ],
      "metadata": {
        "colab": {
          "base_uri": "https://localhost:8080/"
        },
        "id": "WPSPE1Mp099g",
        "outputId": "94414232-067e-40c5-e6df-dc41f8ee9410"
      },
      "execution_count": 78,
      "outputs": [
        {
          "output_type": "execute_result",
          "data": {
            "text/plain": [
              "[('LR', 1.0),\n",
              " ('BR', 0.9999999999999997),\n",
              " ('SGD', 0.9999999998943098),\n",
              " ('RDG', 0.9999999982632105),\n",
              " ('LGBM', 0.9999760207335091),\n",
              " ('RF', 0.9887770776599977),\n",
              " ('GBR', 0.971078096583914),\n",
              " ('XGB', -0.00047407082748640583),\n",
              " ('LAS', -0.00047411576678357825)]"
            ]
          },
          "metadata": {},
          "execution_count": 78
        }
      ]
    },
    {
      "cell_type": "markdown",
      "source": [
        "**Predict points on izopropanol curve with values from air curve**"
      ],
      "metadata": {
        "id": "TgkznDkF1pv4"
      }
    },
    {
      "cell_type": "markdown",
      "source": [
        "I'll do the same as for water curve"
      ],
      "metadata": {
        "id": "uuub02Nd1vPd"
      }
    },
    {
      "cell_type": "code",
      "source": [
        "ipa_sw = df.loc[:, (df.columns.str.startswith('sw') & (df.columns.str.contains('izopropanol')))]\n",
        "ipa_sa = df.loc[:, (df.columns.str.startswith('sa') & (df.columns.str.contains('izopropanol')))]"
      ],
      "metadata": {
        "id": "gY7ZZeK31o62"
      },
      "execution_count": 37,
      "outputs": []
    },
    {
      "cell_type": "code",
      "source": [
        "sa_air_ipa = pd.merge(air_sa, ipa_sa_mean, left_index=True, right_index=True)  # sa - signal amplitude\n",
        "sa_air_ipa"
      ],
      "metadata": {
        "colab": {
          "base_uri": "https://localhost:8080/",
          "height": 468
        },
        "id": "hc1Etcbg2VQQ",
        "outputId": "e4dbb9e3-280f-4402-fc42-20acce7812e3"
      },
      "execution_count": 84,
      "outputs": [
        {
          "output_type": "execute_result",
          "data": {
            "text/plain": [
              "      sa.sensor05_air  sa.sensor04_air  sa.sensor08_air  sa.sensor07_air  \\\n",
              "0              9.4439           8.0963           9.9081           8.8064   \n",
              "1              9.6645           8.1872          10.0010           8.9714   \n",
              "2              9.5697           8.2061           9.9366           8.9747   \n",
              "3              9.6378           8.1094           9.8126           8.8461   \n",
              "4              9.4933           7.9691           9.8773           8.8265   \n",
              "...               ...              ...              ...              ...   \n",
              "2996           2.8330           1.5783           3.7791           2.9408   \n",
              "2997           2.9789           1.7888           3.6568           3.2277   \n",
              "2998           2.7841           1.3259           3.7064           2.8527   \n",
              "2999           2.9465           1.6945           3.7920           3.3101   \n",
              "3000           3.0680           1.9239           4.0038           3.2780   \n",
              "\n",
              "      sa.sensor09_air  sa.sensor10_air  sa.sensor03_air  sa.sensor01_air  \\\n",
              "0              8.6910           9.2124           7.8831           9.1792   \n",
              "1              8.7223           9.2734           8.0971           9.2003   \n",
              "2              8.7796           9.1703           7.9478           9.1968   \n",
              "3              8.6753           9.2478           7.9979           9.1028   \n",
              "4              8.6667           9.0771           7.9220           9.0601   \n",
              "...               ...              ...              ...              ...   \n",
              "2996           2.7312           3.2784           2.3074           3.8310   \n",
              "2997           2.7287           3.4213           2.3935           3.8613   \n",
              "2998           2.5725           3.3112           2.2550           3.8361   \n",
              "2999           2.7335           3.4500           2.4935           3.9466   \n",
              "3000           2.9142           3.6370           2.4934           3.8974   \n",
              "\n",
              "      sa.sensor06_air  sa.sensor02_air  mean_value_sa  \n",
              "0              9.4554           9.7793       8.482070  \n",
              "1              9.6052           9.8643       8.587220  \n",
              "2              9.6264           9.8031       8.543580  \n",
              "3              9.5136           9.7320       8.519220  \n",
              "4              9.4042           9.6895       8.463710  \n",
              "...               ...              ...            ...  \n",
              "2996           2.4787           3.5505      -1.098305  \n",
              "2997           2.9384           3.8237      -1.024405  \n",
              "2998           2.4859           3.6708      -1.145589  \n",
              "2999           2.9317           3.8785      -0.828951  \n",
              "3000           2.8220           3.8886      -0.796306  \n",
              "\n",
              "[3001 rows x 11 columns]"
            ],
            "text/html": [
              "\n",
              "  <div id=\"df-9f7c3594-44a3-4f63-931a-3b89b8be176a\">\n",
              "    <div class=\"colab-df-container\">\n",
              "      <div>\n",
              "<style scoped>\n",
              "    .dataframe tbody tr th:only-of-type {\n",
              "        vertical-align: middle;\n",
              "    }\n",
              "\n",
              "    .dataframe tbody tr th {\n",
              "        vertical-align: top;\n",
              "    }\n",
              "\n",
              "    .dataframe thead th {\n",
              "        text-align: right;\n",
              "    }\n",
              "</style>\n",
              "<table border=\"1\" class=\"dataframe\">\n",
              "  <thead>\n",
              "    <tr style=\"text-align: right;\">\n",
              "      <th></th>\n",
              "      <th>sa.sensor05_air</th>\n",
              "      <th>sa.sensor04_air</th>\n",
              "      <th>sa.sensor08_air</th>\n",
              "      <th>sa.sensor07_air</th>\n",
              "      <th>sa.sensor09_air</th>\n",
              "      <th>sa.sensor10_air</th>\n",
              "      <th>sa.sensor03_air</th>\n",
              "      <th>sa.sensor01_air</th>\n",
              "      <th>sa.sensor06_air</th>\n",
              "      <th>sa.sensor02_air</th>\n",
              "      <th>mean_value_sa</th>\n",
              "    </tr>\n",
              "  </thead>\n",
              "  <tbody>\n",
              "    <tr>\n",
              "      <th>0</th>\n",
              "      <td>9.4439</td>\n",
              "      <td>8.0963</td>\n",
              "      <td>9.9081</td>\n",
              "      <td>8.8064</td>\n",
              "      <td>8.6910</td>\n",
              "      <td>9.2124</td>\n",
              "      <td>7.8831</td>\n",
              "      <td>9.1792</td>\n",
              "      <td>9.4554</td>\n",
              "      <td>9.7793</td>\n",
              "      <td>8.482070</td>\n",
              "    </tr>\n",
              "    <tr>\n",
              "      <th>1</th>\n",
              "      <td>9.6645</td>\n",
              "      <td>8.1872</td>\n",
              "      <td>10.0010</td>\n",
              "      <td>8.9714</td>\n",
              "      <td>8.7223</td>\n",
              "      <td>9.2734</td>\n",
              "      <td>8.0971</td>\n",
              "      <td>9.2003</td>\n",
              "      <td>9.6052</td>\n",
              "      <td>9.8643</td>\n",
              "      <td>8.587220</td>\n",
              "    </tr>\n",
              "    <tr>\n",
              "      <th>2</th>\n",
              "      <td>9.5697</td>\n",
              "      <td>8.2061</td>\n",
              "      <td>9.9366</td>\n",
              "      <td>8.9747</td>\n",
              "      <td>8.7796</td>\n",
              "      <td>9.1703</td>\n",
              "      <td>7.9478</td>\n",
              "      <td>9.1968</td>\n",
              "      <td>9.6264</td>\n",
              "      <td>9.8031</td>\n",
              "      <td>8.543580</td>\n",
              "    </tr>\n",
              "    <tr>\n",
              "      <th>3</th>\n",
              "      <td>9.6378</td>\n",
              "      <td>8.1094</td>\n",
              "      <td>9.8126</td>\n",
              "      <td>8.8461</td>\n",
              "      <td>8.6753</td>\n",
              "      <td>9.2478</td>\n",
              "      <td>7.9979</td>\n",
              "      <td>9.1028</td>\n",
              "      <td>9.5136</td>\n",
              "      <td>9.7320</td>\n",
              "      <td>8.519220</td>\n",
              "    </tr>\n",
              "    <tr>\n",
              "      <th>4</th>\n",
              "      <td>9.4933</td>\n",
              "      <td>7.9691</td>\n",
              "      <td>9.8773</td>\n",
              "      <td>8.8265</td>\n",
              "      <td>8.6667</td>\n",
              "      <td>9.0771</td>\n",
              "      <td>7.9220</td>\n",
              "      <td>9.0601</td>\n",
              "      <td>9.4042</td>\n",
              "      <td>9.6895</td>\n",
              "      <td>8.463710</td>\n",
              "    </tr>\n",
              "    <tr>\n",
              "      <th>...</th>\n",
              "      <td>...</td>\n",
              "      <td>...</td>\n",
              "      <td>...</td>\n",
              "      <td>...</td>\n",
              "      <td>...</td>\n",
              "      <td>...</td>\n",
              "      <td>...</td>\n",
              "      <td>...</td>\n",
              "      <td>...</td>\n",
              "      <td>...</td>\n",
              "      <td>...</td>\n",
              "    </tr>\n",
              "    <tr>\n",
              "      <th>2996</th>\n",
              "      <td>2.8330</td>\n",
              "      <td>1.5783</td>\n",
              "      <td>3.7791</td>\n",
              "      <td>2.9408</td>\n",
              "      <td>2.7312</td>\n",
              "      <td>3.2784</td>\n",
              "      <td>2.3074</td>\n",
              "      <td>3.8310</td>\n",
              "      <td>2.4787</td>\n",
              "      <td>3.5505</td>\n",
              "      <td>-1.098305</td>\n",
              "    </tr>\n",
              "    <tr>\n",
              "      <th>2997</th>\n",
              "      <td>2.9789</td>\n",
              "      <td>1.7888</td>\n",
              "      <td>3.6568</td>\n",
              "      <td>3.2277</td>\n",
              "      <td>2.7287</td>\n",
              "      <td>3.4213</td>\n",
              "      <td>2.3935</td>\n",
              "      <td>3.8613</td>\n",
              "      <td>2.9384</td>\n",
              "      <td>3.8237</td>\n",
              "      <td>-1.024405</td>\n",
              "    </tr>\n",
              "    <tr>\n",
              "      <th>2998</th>\n",
              "      <td>2.7841</td>\n",
              "      <td>1.3259</td>\n",
              "      <td>3.7064</td>\n",
              "      <td>2.8527</td>\n",
              "      <td>2.5725</td>\n",
              "      <td>3.3112</td>\n",
              "      <td>2.2550</td>\n",
              "      <td>3.8361</td>\n",
              "      <td>2.4859</td>\n",
              "      <td>3.6708</td>\n",
              "      <td>-1.145589</td>\n",
              "    </tr>\n",
              "    <tr>\n",
              "      <th>2999</th>\n",
              "      <td>2.9465</td>\n",
              "      <td>1.6945</td>\n",
              "      <td>3.7920</td>\n",
              "      <td>3.3101</td>\n",
              "      <td>2.7335</td>\n",
              "      <td>3.4500</td>\n",
              "      <td>2.4935</td>\n",
              "      <td>3.9466</td>\n",
              "      <td>2.9317</td>\n",
              "      <td>3.8785</td>\n",
              "      <td>-0.828951</td>\n",
              "    </tr>\n",
              "    <tr>\n",
              "      <th>3000</th>\n",
              "      <td>3.0680</td>\n",
              "      <td>1.9239</td>\n",
              "      <td>4.0038</td>\n",
              "      <td>3.2780</td>\n",
              "      <td>2.9142</td>\n",
              "      <td>3.6370</td>\n",
              "      <td>2.4934</td>\n",
              "      <td>3.8974</td>\n",
              "      <td>2.8220</td>\n",
              "      <td>3.8886</td>\n",
              "      <td>-0.796306</td>\n",
              "    </tr>\n",
              "  </tbody>\n",
              "</table>\n",
              "<p>3001 rows × 11 columns</p>\n",
              "</div>\n",
              "      <button class=\"colab-df-convert\" onclick=\"convertToInteractive('df-9f7c3594-44a3-4f63-931a-3b89b8be176a')\"\n",
              "              title=\"Convert this dataframe to an interactive table.\"\n",
              "              style=\"display:none;\">\n",
              "        \n",
              "  <svg xmlns=\"http://www.w3.org/2000/svg\" height=\"24px\"viewBox=\"0 0 24 24\"\n",
              "       width=\"24px\">\n",
              "    <path d=\"M0 0h24v24H0V0z\" fill=\"none\"/>\n",
              "    <path d=\"M18.56 5.44l.94 2.06.94-2.06 2.06-.94-2.06-.94-.94-2.06-.94 2.06-2.06.94zm-11 1L8.5 8.5l.94-2.06 2.06-.94-2.06-.94L8.5 2.5l-.94 2.06-2.06.94zm10 10l.94 2.06.94-2.06 2.06-.94-2.06-.94-.94-2.06-.94 2.06-2.06.94z\"/><path d=\"M17.41 7.96l-1.37-1.37c-.4-.4-.92-.59-1.43-.59-.52 0-1.04.2-1.43.59L10.3 9.45l-7.72 7.72c-.78.78-.78 2.05 0 2.83L4 21.41c.39.39.9.59 1.41.59.51 0 1.02-.2 1.41-.59l7.78-7.78 2.81-2.81c.8-.78.8-2.07 0-2.86zM5.41 20L4 18.59l7.72-7.72 1.47 1.35L5.41 20z\"/>\n",
              "  </svg>\n",
              "      </button>\n",
              "      \n",
              "  <style>\n",
              "    .colab-df-container {\n",
              "      display:flex;\n",
              "      flex-wrap:wrap;\n",
              "      gap: 12px;\n",
              "    }\n",
              "\n",
              "    .colab-df-convert {\n",
              "      background-color: #E8F0FE;\n",
              "      border: none;\n",
              "      border-radius: 50%;\n",
              "      cursor: pointer;\n",
              "      display: none;\n",
              "      fill: #1967D2;\n",
              "      height: 32px;\n",
              "      padding: 0 0 0 0;\n",
              "      width: 32px;\n",
              "    }\n",
              "\n",
              "    .colab-df-convert:hover {\n",
              "      background-color: #E2EBFA;\n",
              "      box-shadow: 0px 1px 2px rgba(60, 64, 67, 0.3), 0px 1px 3px 1px rgba(60, 64, 67, 0.15);\n",
              "      fill: #174EA6;\n",
              "    }\n",
              "\n",
              "    [theme=dark] .colab-df-convert {\n",
              "      background-color: #3B4455;\n",
              "      fill: #D2E3FC;\n",
              "    }\n",
              "\n",
              "    [theme=dark] .colab-df-convert:hover {\n",
              "      background-color: #434B5C;\n",
              "      box-shadow: 0px 1px 3px 1px rgba(0, 0, 0, 0.15);\n",
              "      filter: drop-shadow(0px 1px 2px rgba(0, 0, 0, 0.3));\n",
              "      fill: #FFFFFF;\n",
              "    }\n",
              "  </style>\n",
              "\n",
              "      <script>\n",
              "        const buttonEl =\n",
              "          document.querySelector('#df-9f7c3594-44a3-4f63-931a-3b89b8be176a button.colab-df-convert');\n",
              "        buttonEl.style.display =\n",
              "          google.colab.kernel.accessAllowed ? 'block' : 'none';\n",
              "\n",
              "        async function convertToInteractive(key) {\n",
              "          const element = document.querySelector('#df-9f7c3594-44a3-4f63-931a-3b89b8be176a');\n",
              "          const dataTable =\n",
              "            await google.colab.kernel.invokeFunction('convertToInteractive',\n",
              "                                                     [key], {});\n",
              "          if (!dataTable) return;\n",
              "\n",
              "          const docLinkHtml = 'Like what you see? Visit the ' +\n",
              "            '<a target=\"_blank\" href=https://colab.research.google.com/notebooks/data_table.ipynb>data table notebook</a>'\n",
              "            + ' to learn more about interactive tables.';\n",
              "          element.innerHTML = '';\n",
              "          dataTable['output_type'] = 'display_data';\n",
              "          await google.colab.output.renderOutput(dataTable, element);\n",
              "          const docLink = document.createElement('div');\n",
              "          docLink.innerHTML = docLinkHtml;\n",
              "          element.appendChild(docLink);\n",
              "        }\n",
              "      </script>\n",
              "    </div>\n",
              "  </div>\n",
              "  "
            ]
          },
          "metadata": {},
          "execution_count": 84
        }
      ]
    },
    {
      "cell_type": "code",
      "source": [
        "X3 = sa_air_ipa.drop(columns=['mean_value_sa'])   # values from air curve from each point\n",
        "y3 = sa_air_ipa['mean_value_sa']          # mean value for ipa curve for each point"
      ],
      "metadata": {
        "id": "6lvVXORG2rOm"
      },
      "execution_count": 85,
      "outputs": []
    },
    {
      "cell_type": "code",
      "source": [
        "X_train3,X_test3,y_train3,y_test3 = train_test_split(X3,y3,test_size=0.2,random_state=1)\n",
        "scaler = StandardScaler()\n",
        "scaler.fit(X_train3)\n",
        "X_train3 = scaler.transform(X_train3)\n",
        "X_test3 = scaler.transform(X_test3)"
      ],
      "metadata": {
        "id": "YmJ-ioIn3B2e"
      },
      "execution_count": 86,
      "outputs": []
    },
    {
      "cell_type": "code",
      "source": [
        "models = [('RF',RandomForestRegressor(random_state=1)), ('XGB', XGBRegressor(random_state=1)), (\"LR\", LinearRegression()), (\"RDG\", Ridge(random_state=1)), (\"LAS\", Lasso(random_state=1)), \n",
        "          (\"BR\", BayesianRidge()), (\"SGD\", SGDRegressor(random_state=1)), (\"LGBM\",LGBMRegressor(random_state=1)), ('GBR',GradientBoostingRegressor(random_state=1))]\n",
        "\n",
        "results = []\n",
        "names = []\n",
        "finalResults = []\n",
        "\n",
        "for name,model in models:\n",
        "    model.fit(X_train3, y_train3)\n",
        "    model_results = model.predict(X_test3)\n",
        "    score = r2_score(y_test3, model_results)\n",
        "    results.append(score)\n",
        "    names.append(name)\n",
        "    finalResults.append((name,score))\n",
        "    \n",
        "finalResults.sort(key=lambda k:k[1],reverse=True)\n",
        "\n",
        "finalResults"
      ],
      "metadata": {
        "colab": {
          "base_uri": "https://localhost:8080/"
        },
        "id": "CAXdKw0S3Kxc",
        "outputId": "5f337718-699c-476f-c2d8-04885774d193"
      },
      "execution_count": 87,
      "outputs": [
        {
          "output_type": "execute_result",
          "data": {
            "text/plain": [
              "[('RF', 0.99968320409924),\n",
              " ('LGBM', 0.9992181960863559),\n",
              " ('XGB', 0.9988162136653589),\n",
              " ('GBR', 0.9982666529311169),\n",
              " ('BR', 0.9921697496264528),\n",
              " ('LR', 0.9921653826464845),\n",
              " ('RDG', 0.9915997786271415),\n",
              " ('SGD', 0.989474179750404),\n",
              " ('LAS', 0.8588951180386307)]"
            ]
          },
          "metadata": {},
          "execution_count": 87
        }
      ]
    },
    {
      "cell_type": "code",
      "source": [
        "sw_air_ipa = pd.merge(air_sw, ipa_sw_mean, left_index=True, right_index=True)  # sw - signal wavelenght\n",
        "sw_air_ipa"
      ],
      "metadata": {
        "colab": {
          "base_uri": "https://localhost:8080/",
          "height": 468
        },
        "id": "y4MDjd3i3uT1",
        "outputId": "a71b3475-8207-48ea-e0c7-49a25635ce67"
      },
      "execution_count": 43,
      "outputs": [
        {
          "output_type": "execute_result",
          "data": {
            "text/plain": [
              "      sw.sensor05_air  sw.sensor04_air  sw.sensor08_air  sw.sensor07_air  \\\n",
              "0            0.000001         0.000001         0.000001         0.000001   \n",
              "1            0.000001         0.000001         0.000001         0.000001   \n",
              "2            0.000001         0.000001         0.000001         0.000001   \n",
              "3            0.000001         0.000001         0.000001         0.000001   \n",
              "4            0.000001         0.000001         0.000001         0.000001   \n",
              "...               ...              ...              ...              ...   \n",
              "2996         0.000002         0.000002         0.000002         0.000002   \n",
              "2997         0.000002         0.000002         0.000002         0.000002   \n",
              "2998         0.000002         0.000002         0.000002         0.000002   \n",
              "2999         0.000002         0.000002         0.000002         0.000002   \n",
              "3000         0.000002         0.000002         0.000002         0.000002   \n",
              "\n",
              "      sw.sensor09_air  sw.sensor10_air  sw.sensor03_air  sw.sensor01_air  \\\n",
              "0            0.000001         0.000001         0.000001         0.000001   \n",
              "1            0.000001         0.000001         0.000001         0.000001   \n",
              "2            0.000001         0.000001         0.000001         0.000001   \n",
              "3            0.000001         0.000001         0.000001         0.000001   \n",
              "4            0.000001         0.000001         0.000001         0.000001   \n",
              "...               ...              ...              ...              ...   \n",
              "2996         0.000002         0.000002         0.000002         0.000002   \n",
              "2997         0.000002         0.000002         0.000002         0.000002   \n",
              "2998         0.000002         0.000002         0.000002         0.000002   \n",
              "2999         0.000002         0.000002         0.000002         0.000002   \n",
              "3000         0.000002         0.000002         0.000002         0.000002   \n",
              "\n",
              "      sw.sensor06_air  sw.sensor02_air  mean_value_sw  \n",
              "0            0.000001         0.000001       0.000001  \n",
              "1            0.000001         0.000001       0.000001  \n",
              "2            0.000001         0.000001       0.000001  \n",
              "3            0.000001         0.000001       0.000001  \n",
              "4            0.000001         0.000001       0.000001  \n",
              "...               ...              ...            ...  \n",
              "2996         0.000002         0.000002       0.000002  \n",
              "2997         0.000002         0.000002       0.000002  \n",
              "2998         0.000002         0.000002       0.000002  \n",
              "2999         0.000002         0.000002       0.000002  \n",
              "3000         0.000002         0.000002       0.000002  \n",
              "\n",
              "[3001 rows x 11 columns]"
            ],
            "text/html": [
              "\n",
              "  <div id=\"df-83139c94-2067-4aad-a9dd-feaf04773c96\">\n",
              "    <div class=\"colab-df-container\">\n",
              "      <div>\n",
              "<style scoped>\n",
              "    .dataframe tbody tr th:only-of-type {\n",
              "        vertical-align: middle;\n",
              "    }\n",
              "\n",
              "    .dataframe tbody tr th {\n",
              "        vertical-align: top;\n",
              "    }\n",
              "\n",
              "    .dataframe thead th {\n",
              "        text-align: right;\n",
              "    }\n",
              "</style>\n",
              "<table border=\"1\" class=\"dataframe\">\n",
              "  <thead>\n",
              "    <tr style=\"text-align: right;\">\n",
              "      <th></th>\n",
              "      <th>sw.sensor05_air</th>\n",
              "      <th>sw.sensor04_air</th>\n",
              "      <th>sw.sensor08_air</th>\n",
              "      <th>sw.sensor07_air</th>\n",
              "      <th>sw.sensor09_air</th>\n",
              "      <th>sw.sensor10_air</th>\n",
              "      <th>sw.sensor03_air</th>\n",
              "      <th>sw.sensor01_air</th>\n",
              "      <th>sw.sensor06_air</th>\n",
              "      <th>sw.sensor02_air</th>\n",
              "      <th>mean_value_sw</th>\n",
              "    </tr>\n",
              "  </thead>\n",
              "  <tbody>\n",
              "    <tr>\n",
              "      <th>0</th>\n",
              "      <td>0.000001</td>\n",
              "      <td>0.000001</td>\n",
              "      <td>0.000001</td>\n",
              "      <td>0.000001</td>\n",
              "      <td>0.000001</td>\n",
              "      <td>0.000001</td>\n",
              "      <td>0.000001</td>\n",
              "      <td>0.000001</td>\n",
              "      <td>0.000001</td>\n",
              "      <td>0.000001</td>\n",
              "      <td>0.000001</td>\n",
              "    </tr>\n",
              "    <tr>\n",
              "      <th>1</th>\n",
              "      <td>0.000001</td>\n",
              "      <td>0.000001</td>\n",
              "      <td>0.000001</td>\n",
              "      <td>0.000001</td>\n",
              "      <td>0.000001</td>\n",
              "      <td>0.000001</td>\n",
              "      <td>0.000001</td>\n",
              "      <td>0.000001</td>\n",
              "      <td>0.000001</td>\n",
              "      <td>0.000001</td>\n",
              "      <td>0.000001</td>\n",
              "    </tr>\n",
              "    <tr>\n",
              "      <th>2</th>\n",
              "      <td>0.000001</td>\n",
              "      <td>0.000001</td>\n",
              "      <td>0.000001</td>\n",
              "      <td>0.000001</td>\n",
              "      <td>0.000001</td>\n",
              "      <td>0.000001</td>\n",
              "      <td>0.000001</td>\n",
              "      <td>0.000001</td>\n",
              "      <td>0.000001</td>\n",
              "      <td>0.000001</td>\n",
              "      <td>0.000001</td>\n",
              "    </tr>\n",
              "    <tr>\n",
              "      <th>3</th>\n",
              "      <td>0.000001</td>\n",
              "      <td>0.000001</td>\n",
              "      <td>0.000001</td>\n",
              "      <td>0.000001</td>\n",
              "      <td>0.000001</td>\n",
              "      <td>0.000001</td>\n",
              "      <td>0.000001</td>\n",
              "      <td>0.000001</td>\n",
              "      <td>0.000001</td>\n",
              "      <td>0.000001</td>\n",
              "      <td>0.000001</td>\n",
              "    </tr>\n",
              "    <tr>\n",
              "      <th>4</th>\n",
              "      <td>0.000001</td>\n",
              "      <td>0.000001</td>\n",
              "      <td>0.000001</td>\n",
              "      <td>0.000001</td>\n",
              "      <td>0.000001</td>\n",
              "      <td>0.000001</td>\n",
              "      <td>0.000001</td>\n",
              "      <td>0.000001</td>\n",
              "      <td>0.000001</td>\n",
              "      <td>0.000001</td>\n",
              "      <td>0.000001</td>\n",
              "    </tr>\n",
              "    <tr>\n",
              "      <th>...</th>\n",
              "      <td>...</td>\n",
              "      <td>...</td>\n",
              "      <td>...</td>\n",
              "      <td>...</td>\n",
              "      <td>...</td>\n",
              "      <td>...</td>\n",
              "      <td>...</td>\n",
              "      <td>...</td>\n",
              "      <td>...</td>\n",
              "      <td>...</td>\n",
              "      <td>...</td>\n",
              "    </tr>\n",
              "    <tr>\n",
              "      <th>2996</th>\n",
              "      <td>0.000002</td>\n",
              "      <td>0.000002</td>\n",
              "      <td>0.000002</td>\n",
              "      <td>0.000002</td>\n",
              "      <td>0.000002</td>\n",
              "      <td>0.000002</td>\n",
              "      <td>0.000002</td>\n",
              "      <td>0.000002</td>\n",
              "      <td>0.000002</td>\n",
              "      <td>0.000002</td>\n",
              "      <td>0.000002</td>\n",
              "    </tr>\n",
              "    <tr>\n",
              "      <th>2997</th>\n",
              "      <td>0.000002</td>\n",
              "      <td>0.000002</td>\n",
              "      <td>0.000002</td>\n",
              "      <td>0.000002</td>\n",
              "      <td>0.000002</td>\n",
              "      <td>0.000002</td>\n",
              "      <td>0.000002</td>\n",
              "      <td>0.000002</td>\n",
              "      <td>0.000002</td>\n",
              "      <td>0.000002</td>\n",
              "      <td>0.000002</td>\n",
              "    </tr>\n",
              "    <tr>\n",
              "      <th>2998</th>\n",
              "      <td>0.000002</td>\n",
              "      <td>0.000002</td>\n",
              "      <td>0.000002</td>\n",
              "      <td>0.000002</td>\n",
              "      <td>0.000002</td>\n",
              "      <td>0.000002</td>\n",
              "      <td>0.000002</td>\n",
              "      <td>0.000002</td>\n",
              "      <td>0.000002</td>\n",
              "      <td>0.000002</td>\n",
              "      <td>0.000002</td>\n",
              "    </tr>\n",
              "    <tr>\n",
              "      <th>2999</th>\n",
              "      <td>0.000002</td>\n",
              "      <td>0.000002</td>\n",
              "      <td>0.000002</td>\n",
              "      <td>0.000002</td>\n",
              "      <td>0.000002</td>\n",
              "      <td>0.000002</td>\n",
              "      <td>0.000002</td>\n",
              "      <td>0.000002</td>\n",
              "      <td>0.000002</td>\n",
              "      <td>0.000002</td>\n",
              "      <td>0.000002</td>\n",
              "    </tr>\n",
              "    <tr>\n",
              "      <th>3000</th>\n",
              "      <td>0.000002</td>\n",
              "      <td>0.000002</td>\n",
              "      <td>0.000002</td>\n",
              "      <td>0.000002</td>\n",
              "      <td>0.000002</td>\n",
              "      <td>0.000002</td>\n",
              "      <td>0.000002</td>\n",
              "      <td>0.000002</td>\n",
              "      <td>0.000002</td>\n",
              "      <td>0.000002</td>\n",
              "      <td>0.000002</td>\n",
              "    </tr>\n",
              "  </tbody>\n",
              "</table>\n",
              "<p>3001 rows × 11 columns</p>\n",
              "</div>\n",
              "      <button class=\"colab-df-convert\" onclick=\"convertToInteractive('df-83139c94-2067-4aad-a9dd-feaf04773c96')\"\n",
              "              title=\"Convert this dataframe to an interactive table.\"\n",
              "              style=\"display:none;\">\n",
              "        \n",
              "  <svg xmlns=\"http://www.w3.org/2000/svg\" height=\"24px\"viewBox=\"0 0 24 24\"\n",
              "       width=\"24px\">\n",
              "    <path d=\"M0 0h24v24H0V0z\" fill=\"none\"/>\n",
              "    <path d=\"M18.56 5.44l.94 2.06.94-2.06 2.06-.94-2.06-.94-.94-2.06-.94 2.06-2.06.94zm-11 1L8.5 8.5l.94-2.06 2.06-.94-2.06-.94L8.5 2.5l-.94 2.06-2.06.94zm10 10l.94 2.06.94-2.06 2.06-.94-2.06-.94-.94-2.06-.94 2.06-2.06.94z\"/><path d=\"M17.41 7.96l-1.37-1.37c-.4-.4-.92-.59-1.43-.59-.52 0-1.04.2-1.43.59L10.3 9.45l-7.72 7.72c-.78.78-.78 2.05 0 2.83L4 21.41c.39.39.9.59 1.41.59.51 0 1.02-.2 1.41-.59l7.78-7.78 2.81-2.81c.8-.78.8-2.07 0-2.86zM5.41 20L4 18.59l7.72-7.72 1.47 1.35L5.41 20z\"/>\n",
              "  </svg>\n",
              "      </button>\n",
              "      \n",
              "  <style>\n",
              "    .colab-df-container {\n",
              "      display:flex;\n",
              "      flex-wrap:wrap;\n",
              "      gap: 12px;\n",
              "    }\n",
              "\n",
              "    .colab-df-convert {\n",
              "      background-color: #E8F0FE;\n",
              "      border: none;\n",
              "      border-radius: 50%;\n",
              "      cursor: pointer;\n",
              "      display: none;\n",
              "      fill: #1967D2;\n",
              "      height: 32px;\n",
              "      padding: 0 0 0 0;\n",
              "      width: 32px;\n",
              "    }\n",
              "\n",
              "    .colab-df-convert:hover {\n",
              "      background-color: #E2EBFA;\n",
              "      box-shadow: 0px 1px 2px rgba(60, 64, 67, 0.3), 0px 1px 3px 1px rgba(60, 64, 67, 0.15);\n",
              "      fill: #174EA6;\n",
              "    }\n",
              "\n",
              "    [theme=dark] .colab-df-convert {\n",
              "      background-color: #3B4455;\n",
              "      fill: #D2E3FC;\n",
              "    }\n",
              "\n",
              "    [theme=dark] .colab-df-convert:hover {\n",
              "      background-color: #434B5C;\n",
              "      box-shadow: 0px 1px 3px 1px rgba(0, 0, 0, 0.15);\n",
              "      filter: drop-shadow(0px 1px 2px rgba(0, 0, 0, 0.3));\n",
              "      fill: #FFFFFF;\n",
              "    }\n",
              "  </style>\n",
              "\n",
              "      <script>\n",
              "        const buttonEl =\n",
              "          document.querySelector('#df-83139c94-2067-4aad-a9dd-feaf04773c96 button.colab-df-convert');\n",
              "        buttonEl.style.display =\n",
              "          google.colab.kernel.accessAllowed ? 'block' : 'none';\n",
              "\n",
              "        async function convertToInteractive(key) {\n",
              "          const element = document.querySelector('#df-83139c94-2067-4aad-a9dd-feaf04773c96');\n",
              "          const dataTable =\n",
              "            await google.colab.kernel.invokeFunction('convertToInteractive',\n",
              "                                                     [key], {});\n",
              "          if (!dataTable) return;\n",
              "\n",
              "          const docLinkHtml = 'Like what you see? Visit the ' +\n",
              "            '<a target=\"_blank\" href=https://colab.research.google.com/notebooks/data_table.ipynb>data table notebook</a>'\n",
              "            + ' to learn more about interactive tables.';\n",
              "          element.innerHTML = '';\n",
              "          dataTable['output_type'] = 'display_data';\n",
              "          await google.colab.output.renderOutput(dataTable, element);\n",
              "          const docLink = document.createElement('div');\n",
              "          docLink.innerHTML = docLinkHtml;\n",
              "          element.appendChild(docLink);\n",
              "        }\n",
              "      </script>\n",
              "    </div>\n",
              "  </div>\n",
              "  "
            ]
          },
          "metadata": {},
          "execution_count": 43
        }
      ]
    },
    {
      "cell_type": "code",
      "source": [
        "X4 = sw_air_ipa.drop(columns=['mean_value_sw'])   # values from air curve from each point\n",
        "y4 = sw_air_ipa['mean_value_sw']          # mean value for ipa curve for each point"
      ],
      "metadata": {
        "id": "rtJ_w6DA37dP"
      },
      "execution_count": 103,
      "outputs": []
    },
    {
      "cell_type": "code",
      "source": [
        "X_train4,X_test4,y_train4,y_test4 = train_test_split(X4,y4,test_size=0.2,random_state=1)\n",
        "scaler = StandardScaler()\n",
        "scaler.fit(X_train4)\n",
        "X_train4 = scaler.transform(X_train4)\n",
        "X_test4 = scaler.transform(X_test4)"
      ],
      "metadata": {
        "id": "5Tga71vD4gXd"
      },
      "execution_count": 104,
      "outputs": []
    },
    {
      "cell_type": "code",
      "source": [
        "models = [('RF',RandomForestRegressor(random_state=1)), ('XGB', XGBRegressor(random_state=1)), (\"LR\", LinearRegression()), (\"RDG\", Ridge(random_state=1)), (\"LAS\", Lasso(random_state=1)), \n",
        "          (\"BR\", BayesianRidge()), (\"SGD\", SGDRegressor(random_state=1)), (\"LGBM\",LGBMRegressor(random_state=1)), ('GBR',GradientBoostingRegressor(random_state=1))]\n",
        "\n",
        "results = []\n",
        "names = []\n",
        "finalResults = []\n",
        "\n",
        "for name,model in models:\n",
        "    model.fit(X_train4, y_train4)\n",
        "    model_results = model.predict(X_test4)\n",
        "    score = r2_score(y_test4, model_results)\n",
        "    results.append(score)\n",
        "    names.append(name)\n",
        "    finalResults.append((name,score))\n",
        "    \n",
        "finalResults.sort(key=lambda k:k[1],reverse=True)\n",
        "\n",
        "finalResults"
      ],
      "metadata": {
        "colab": {
          "base_uri": "https://localhost:8080/"
        },
        "id": "BGEyUyir4HHf",
        "outputId": "99110776-d29f-426e-f8bf-cadcf3b7780b"
      },
      "execution_count": 105,
      "outputs": [
        {
          "output_type": "execute_result",
          "data": {
            "text/plain": [
              "[('LR', 1.0),\n",
              " ('BR', 0.9999999999999997),\n",
              " ('SGD', 0.9999999998943098),\n",
              " ('RDG', 0.9999999982632105),\n",
              " ('LGBM', 0.9999760207335091),\n",
              " ('RF', 0.9887770776599977),\n",
              " ('GBR', 0.971078096583914),\n",
              " ('XGB', -0.00047407082748640583),\n",
              " ('LAS', -0.00047411576678357825)]"
            ]
          },
          "metadata": {},
          "execution_count": 105
        }
      ]
    },
    {
      "cell_type": "markdown",
      "source": [
        "**I'll use GradientBoostingRegressor model**"
      ],
      "metadata": {
        "id": "gTGvHhSQ6sVU"
      }
    },
    {
      "cell_type": "markdown",
      "source": [
        "1st model for signal amplitude in water "
      ],
      "metadata": {
        "id": "QnSnXfMRAItU"
      }
    },
    {
      "cell_type": "code",
      "source": [
        "model = GradientBoostingRegressor(random_state=1)\n",
        "model.fit(X_train1, y_train1)\n",
        "model_results1 = model.predict(X_test1)\n",
        "score1 = r2_score(y_test1, model_results1)\n",
        "print(\"R2 score: {:.4f}\".format(score1))"
      ],
      "metadata": {
        "colab": {
          "base_uri": "https://localhost:8080/"
        },
        "id": "Fl3V53iq501N",
        "outputId": "2612c6b9-1dc9-45b5-873e-020614378b7c"
      },
      "execution_count": 108,
      "outputs": [
        {
          "output_type": "stream",
          "name": "stdout",
          "text": [
            "R2 score: 0.9984\n"
          ]
        }
      ]
    },
    {
      "cell_type": "code",
      "source": [
        "pred_gbr1=pd.DataFrame(data={'predictions':model_results, 'actual':y_test1.values})\n",
        "pred_gbr1.sample(5)"
      ],
      "metadata": {
        "colab": {
          "base_uri": "https://localhost:8080/",
          "height": 206
        },
        "id": "nuEOS4uN93ac",
        "outputId": "a60b882c-4243-40f8-d9bc-29007bb35657"
      },
      "execution_count": 95,
      "outputs": [
        {
          "output_type": "execute_result",
          "data": {
            "text/plain": [
              "     predictions   actual\n",
              "60     -4.199549 -4.37840\n",
              "378    -9.357883 -9.21135\n",
              "26     -2.417773 -2.57493\n",
              "310    -5.454658 -5.61545\n",
              "122    -6.620451 -6.31472"
            ],
            "text/html": [
              "\n",
              "  <div id=\"df-ce43c96b-eeb7-4851-9384-eb8226259b5d\">\n",
              "    <div class=\"colab-df-container\">\n",
              "      <div>\n",
              "<style scoped>\n",
              "    .dataframe tbody tr th:only-of-type {\n",
              "        vertical-align: middle;\n",
              "    }\n",
              "\n",
              "    .dataframe tbody tr th {\n",
              "        vertical-align: top;\n",
              "    }\n",
              "\n",
              "    .dataframe thead th {\n",
              "        text-align: right;\n",
              "    }\n",
              "</style>\n",
              "<table border=\"1\" class=\"dataframe\">\n",
              "  <thead>\n",
              "    <tr style=\"text-align: right;\">\n",
              "      <th></th>\n",
              "      <th>predictions</th>\n",
              "      <th>actual</th>\n",
              "    </tr>\n",
              "  </thead>\n",
              "  <tbody>\n",
              "    <tr>\n",
              "      <th>60</th>\n",
              "      <td>-4.199549</td>\n",
              "      <td>-4.37840</td>\n",
              "    </tr>\n",
              "    <tr>\n",
              "      <th>378</th>\n",
              "      <td>-9.357883</td>\n",
              "      <td>-9.21135</td>\n",
              "    </tr>\n",
              "    <tr>\n",
              "      <th>26</th>\n",
              "      <td>-2.417773</td>\n",
              "      <td>-2.57493</td>\n",
              "    </tr>\n",
              "    <tr>\n",
              "      <th>310</th>\n",
              "      <td>-5.454658</td>\n",
              "      <td>-5.61545</td>\n",
              "    </tr>\n",
              "    <tr>\n",
              "      <th>122</th>\n",
              "      <td>-6.620451</td>\n",
              "      <td>-6.31472</td>\n",
              "    </tr>\n",
              "  </tbody>\n",
              "</table>\n",
              "</div>\n",
              "      <button class=\"colab-df-convert\" onclick=\"convertToInteractive('df-ce43c96b-eeb7-4851-9384-eb8226259b5d')\"\n",
              "              title=\"Convert this dataframe to an interactive table.\"\n",
              "              style=\"display:none;\">\n",
              "        \n",
              "  <svg xmlns=\"http://www.w3.org/2000/svg\" height=\"24px\"viewBox=\"0 0 24 24\"\n",
              "       width=\"24px\">\n",
              "    <path d=\"M0 0h24v24H0V0z\" fill=\"none\"/>\n",
              "    <path d=\"M18.56 5.44l.94 2.06.94-2.06 2.06-.94-2.06-.94-.94-2.06-.94 2.06-2.06.94zm-11 1L8.5 8.5l.94-2.06 2.06-.94-2.06-.94L8.5 2.5l-.94 2.06-2.06.94zm10 10l.94 2.06.94-2.06 2.06-.94-2.06-.94-.94-2.06-.94 2.06-2.06.94z\"/><path d=\"M17.41 7.96l-1.37-1.37c-.4-.4-.92-.59-1.43-.59-.52 0-1.04.2-1.43.59L10.3 9.45l-7.72 7.72c-.78.78-.78 2.05 0 2.83L4 21.41c.39.39.9.59 1.41.59.51 0 1.02-.2 1.41-.59l7.78-7.78 2.81-2.81c.8-.78.8-2.07 0-2.86zM5.41 20L4 18.59l7.72-7.72 1.47 1.35L5.41 20z\"/>\n",
              "  </svg>\n",
              "      </button>\n",
              "      \n",
              "  <style>\n",
              "    .colab-df-container {\n",
              "      display:flex;\n",
              "      flex-wrap:wrap;\n",
              "      gap: 12px;\n",
              "    }\n",
              "\n",
              "    .colab-df-convert {\n",
              "      background-color: #E8F0FE;\n",
              "      border: none;\n",
              "      border-radius: 50%;\n",
              "      cursor: pointer;\n",
              "      display: none;\n",
              "      fill: #1967D2;\n",
              "      height: 32px;\n",
              "      padding: 0 0 0 0;\n",
              "      width: 32px;\n",
              "    }\n",
              "\n",
              "    .colab-df-convert:hover {\n",
              "      background-color: #E2EBFA;\n",
              "      box-shadow: 0px 1px 2px rgba(60, 64, 67, 0.3), 0px 1px 3px 1px rgba(60, 64, 67, 0.15);\n",
              "      fill: #174EA6;\n",
              "    }\n",
              "\n",
              "    [theme=dark] .colab-df-convert {\n",
              "      background-color: #3B4455;\n",
              "      fill: #D2E3FC;\n",
              "    }\n",
              "\n",
              "    [theme=dark] .colab-df-convert:hover {\n",
              "      background-color: #434B5C;\n",
              "      box-shadow: 0px 1px 3px 1px rgba(0, 0, 0, 0.15);\n",
              "      filter: drop-shadow(0px 1px 2px rgba(0, 0, 0, 0.3));\n",
              "      fill: #FFFFFF;\n",
              "    }\n",
              "  </style>\n",
              "\n",
              "      <script>\n",
              "        const buttonEl =\n",
              "          document.querySelector('#df-ce43c96b-eeb7-4851-9384-eb8226259b5d button.colab-df-convert');\n",
              "        buttonEl.style.display =\n",
              "          google.colab.kernel.accessAllowed ? 'block' : 'none';\n",
              "\n",
              "        async function convertToInteractive(key) {\n",
              "          const element = document.querySelector('#df-ce43c96b-eeb7-4851-9384-eb8226259b5d');\n",
              "          const dataTable =\n",
              "            await google.colab.kernel.invokeFunction('convertToInteractive',\n",
              "                                                     [key], {});\n",
              "          if (!dataTable) return;\n",
              "\n",
              "          const docLinkHtml = 'Like what you see? Visit the ' +\n",
              "            '<a target=\"_blank\" href=https://colab.research.google.com/notebooks/data_table.ipynb>data table notebook</a>'\n",
              "            + ' to learn more about interactive tables.';\n",
              "          element.innerHTML = '';\n",
              "          dataTable['output_type'] = 'display_data';\n",
              "          await google.colab.output.renderOutput(dataTable, element);\n",
              "          const docLink = document.createElement('div');\n",
              "          docLink.innerHTML = docLinkHtml;\n",
              "          element.appendChild(docLink);\n",
              "        }\n",
              "      </script>\n",
              "    </div>\n",
              "  </div>\n",
              "  "
            ]
          },
          "metadata": {},
          "execution_count": 95
        }
      ]
    },
    {
      "cell_type": "markdown",
      "source": [
        "2nd model for signal wavelenght in water"
      ],
      "metadata": {
        "id": "YNVhCq8IAWDs"
      }
    },
    {
      "cell_type": "code",
      "source": [
        "model = GradientBoostingRegressor(random_state=1)\n",
        "model.fit(X_train2, y_train2)\n",
        "model_results2 = model.predict(X_test2)\n",
        "score2 = r2_score(y_test2, model_results2)\n",
        "print(\"R2 score: {:.4f}\".format(score2))"
      ],
      "metadata": {
        "colab": {
          "base_uri": "https://localhost:8080/"
        },
        "id": "U5QIdIi8-9_u",
        "outputId": "a5dc034e-8a50-4a08-d63f-c3e83e540a4a"
      },
      "execution_count": 109,
      "outputs": [
        {
          "output_type": "stream",
          "name": "stdout",
          "text": [
            "R2 score: 0.9711\n"
          ]
        }
      ]
    },
    {
      "cell_type": "code",
      "source": [
        "pred_gbr2=pd.DataFrame(data={'predictions':model_results2, 'actual':y_test2.values})\n",
        "pred_gbr2.sample(5)"
      ],
      "metadata": {
        "colab": {
          "base_uri": "https://localhost:8080/",
          "height": 206
        },
        "id": "sKgDHiMX_VSl",
        "outputId": "eb4f45fa-6a2f-455d-ec52-ff59e4c841fd"
      },
      "execution_count": 110,
      "outputs": [
        {
          "output_type": "execute_result",
          "data": {
            "text/plain": [
              "     predictions    actual\n",
              "531     0.000001  0.000001\n",
              "66      0.000002  0.000002\n",
              "46      0.000002  0.000002\n",
              "138     0.000001  0.000001\n",
              "310     0.000002  0.000002"
            ],
            "text/html": [
              "\n",
              "  <div id=\"df-07dba42c-e166-43cd-bfed-109adb3ab464\">\n",
              "    <div class=\"colab-df-container\">\n",
              "      <div>\n",
              "<style scoped>\n",
              "    .dataframe tbody tr th:only-of-type {\n",
              "        vertical-align: middle;\n",
              "    }\n",
              "\n",
              "    .dataframe tbody tr th {\n",
              "        vertical-align: top;\n",
              "    }\n",
              "\n",
              "    .dataframe thead th {\n",
              "        text-align: right;\n",
              "    }\n",
              "</style>\n",
              "<table border=\"1\" class=\"dataframe\">\n",
              "  <thead>\n",
              "    <tr style=\"text-align: right;\">\n",
              "      <th></th>\n",
              "      <th>predictions</th>\n",
              "      <th>actual</th>\n",
              "    </tr>\n",
              "  </thead>\n",
              "  <tbody>\n",
              "    <tr>\n",
              "      <th>531</th>\n",
              "      <td>0.000001</td>\n",
              "      <td>0.000001</td>\n",
              "    </tr>\n",
              "    <tr>\n",
              "      <th>66</th>\n",
              "      <td>0.000002</td>\n",
              "      <td>0.000002</td>\n",
              "    </tr>\n",
              "    <tr>\n",
              "      <th>46</th>\n",
              "      <td>0.000002</td>\n",
              "      <td>0.000002</td>\n",
              "    </tr>\n",
              "    <tr>\n",
              "      <th>138</th>\n",
              "      <td>0.000001</td>\n",
              "      <td>0.000001</td>\n",
              "    </tr>\n",
              "    <tr>\n",
              "      <th>310</th>\n",
              "      <td>0.000002</td>\n",
              "      <td>0.000002</td>\n",
              "    </tr>\n",
              "  </tbody>\n",
              "</table>\n",
              "</div>\n",
              "      <button class=\"colab-df-convert\" onclick=\"convertToInteractive('df-07dba42c-e166-43cd-bfed-109adb3ab464')\"\n",
              "              title=\"Convert this dataframe to an interactive table.\"\n",
              "              style=\"display:none;\">\n",
              "        \n",
              "  <svg xmlns=\"http://www.w3.org/2000/svg\" height=\"24px\"viewBox=\"0 0 24 24\"\n",
              "       width=\"24px\">\n",
              "    <path d=\"M0 0h24v24H0V0z\" fill=\"none\"/>\n",
              "    <path d=\"M18.56 5.44l.94 2.06.94-2.06 2.06-.94-2.06-.94-.94-2.06-.94 2.06-2.06.94zm-11 1L8.5 8.5l.94-2.06 2.06-.94-2.06-.94L8.5 2.5l-.94 2.06-2.06.94zm10 10l.94 2.06.94-2.06 2.06-.94-2.06-.94-.94-2.06-.94 2.06-2.06.94z\"/><path d=\"M17.41 7.96l-1.37-1.37c-.4-.4-.92-.59-1.43-.59-.52 0-1.04.2-1.43.59L10.3 9.45l-7.72 7.72c-.78.78-.78 2.05 0 2.83L4 21.41c.39.39.9.59 1.41.59.51 0 1.02-.2 1.41-.59l7.78-7.78 2.81-2.81c.8-.78.8-2.07 0-2.86zM5.41 20L4 18.59l7.72-7.72 1.47 1.35L5.41 20z\"/>\n",
              "  </svg>\n",
              "      </button>\n",
              "      \n",
              "  <style>\n",
              "    .colab-df-container {\n",
              "      display:flex;\n",
              "      flex-wrap:wrap;\n",
              "      gap: 12px;\n",
              "    }\n",
              "\n",
              "    .colab-df-convert {\n",
              "      background-color: #E8F0FE;\n",
              "      border: none;\n",
              "      border-radius: 50%;\n",
              "      cursor: pointer;\n",
              "      display: none;\n",
              "      fill: #1967D2;\n",
              "      height: 32px;\n",
              "      padding: 0 0 0 0;\n",
              "      width: 32px;\n",
              "    }\n",
              "\n",
              "    .colab-df-convert:hover {\n",
              "      background-color: #E2EBFA;\n",
              "      box-shadow: 0px 1px 2px rgba(60, 64, 67, 0.3), 0px 1px 3px 1px rgba(60, 64, 67, 0.15);\n",
              "      fill: #174EA6;\n",
              "    }\n",
              "\n",
              "    [theme=dark] .colab-df-convert {\n",
              "      background-color: #3B4455;\n",
              "      fill: #D2E3FC;\n",
              "    }\n",
              "\n",
              "    [theme=dark] .colab-df-convert:hover {\n",
              "      background-color: #434B5C;\n",
              "      box-shadow: 0px 1px 3px 1px rgba(0, 0, 0, 0.15);\n",
              "      filter: drop-shadow(0px 1px 2px rgba(0, 0, 0, 0.3));\n",
              "      fill: #FFFFFF;\n",
              "    }\n",
              "  </style>\n",
              "\n",
              "      <script>\n",
              "        const buttonEl =\n",
              "          document.querySelector('#df-07dba42c-e166-43cd-bfed-109adb3ab464 button.colab-df-convert');\n",
              "        buttonEl.style.display =\n",
              "          google.colab.kernel.accessAllowed ? 'block' : 'none';\n",
              "\n",
              "        async function convertToInteractive(key) {\n",
              "          const element = document.querySelector('#df-07dba42c-e166-43cd-bfed-109adb3ab464');\n",
              "          const dataTable =\n",
              "            await google.colab.kernel.invokeFunction('convertToInteractive',\n",
              "                                                     [key], {});\n",
              "          if (!dataTable) return;\n",
              "\n",
              "          const docLinkHtml = 'Like what you see? Visit the ' +\n",
              "            '<a target=\"_blank\" href=https://colab.research.google.com/notebooks/data_table.ipynb>data table notebook</a>'\n",
              "            + ' to learn more about interactive tables.';\n",
              "          element.innerHTML = '';\n",
              "          dataTable['output_type'] = 'display_data';\n",
              "          await google.colab.output.renderOutput(dataTable, element);\n",
              "          const docLink = document.createElement('div');\n",
              "          docLink.innerHTML = docLinkHtml;\n",
              "          element.appendChild(docLink);\n",
              "        }\n",
              "      </script>\n",
              "    </div>\n",
              "  </div>\n",
              "  "
            ]
          },
          "metadata": {},
          "execution_count": 110
        }
      ]
    },
    {
      "cell_type": "markdown",
      "source": [
        "3rd model for signal amplitude in izopropanol"
      ],
      "metadata": {
        "id": "93BMursVBVnm"
      }
    },
    {
      "cell_type": "code",
      "source": [
        "model = GradientBoostingRegressor(random_state=1)\n",
        "model.fit(X_train3, y_train3)\n",
        "model_results3 = model.predict(X_test3)\n",
        "score3 = r2_score(y_test3, model_results3)\n",
        "print(\"R2 score: {:.4f}\".format(score3))"
      ],
      "metadata": {
        "colab": {
          "base_uri": "https://localhost:8080/"
        },
        "id": "gFYpZSwTAVBV",
        "outputId": "503d0379-2c73-496c-d47d-db0abb564afa"
      },
      "execution_count": 100,
      "outputs": [
        {
          "output_type": "stream",
          "name": "stdout",
          "text": [
            "R2 score: 0.9983\n"
          ]
        }
      ]
    },
    {
      "cell_type": "code",
      "source": [
        "pred_gbr3=pd.DataFrame(data={'predictions':model_results3, 'actual':y_test3.values})\n",
        "pred_gbr3.sample(5)"
      ],
      "metadata": {
        "colab": {
          "base_uri": "https://localhost:8080/",
          "height": 206
        },
        "outputId": "5d9faa31-b1c4-4c7b-d32c-6e8bc489b643",
        "id": "1h1a4lkHCiML"
      },
      "execution_count": 102,
      "outputs": [
        {
          "output_type": "execute_result",
          "data": {
            "text/plain": [
              "     predictions    actual\n",
              "50     -7.903128 -8.128050\n",
              "191    -3.589277 -3.776500\n",
              "109     1.338669  1.131254\n",
              "544     1.224181  1.246135\n",
              "187     5.578543  5.571110"
            ],
            "text/html": [
              "\n",
              "  <div id=\"df-5d617c2d-c255-45db-b0de-29c1bacd0d30\">\n",
              "    <div class=\"colab-df-container\">\n",
              "      <div>\n",
              "<style scoped>\n",
              "    .dataframe tbody tr th:only-of-type {\n",
              "        vertical-align: middle;\n",
              "    }\n",
              "\n",
              "    .dataframe tbody tr th {\n",
              "        vertical-align: top;\n",
              "    }\n",
              "\n",
              "    .dataframe thead th {\n",
              "        text-align: right;\n",
              "    }\n",
              "</style>\n",
              "<table border=\"1\" class=\"dataframe\">\n",
              "  <thead>\n",
              "    <tr style=\"text-align: right;\">\n",
              "      <th></th>\n",
              "      <th>predictions</th>\n",
              "      <th>actual</th>\n",
              "    </tr>\n",
              "  </thead>\n",
              "  <tbody>\n",
              "    <tr>\n",
              "      <th>50</th>\n",
              "      <td>-7.903128</td>\n",
              "      <td>-8.128050</td>\n",
              "    </tr>\n",
              "    <tr>\n",
              "      <th>191</th>\n",
              "      <td>-3.589277</td>\n",
              "      <td>-3.776500</td>\n",
              "    </tr>\n",
              "    <tr>\n",
              "      <th>109</th>\n",
              "      <td>1.338669</td>\n",
              "      <td>1.131254</td>\n",
              "    </tr>\n",
              "    <tr>\n",
              "      <th>544</th>\n",
              "      <td>1.224181</td>\n",
              "      <td>1.246135</td>\n",
              "    </tr>\n",
              "    <tr>\n",
              "      <th>187</th>\n",
              "      <td>5.578543</td>\n",
              "      <td>5.571110</td>\n",
              "    </tr>\n",
              "  </tbody>\n",
              "</table>\n",
              "</div>\n",
              "      <button class=\"colab-df-convert\" onclick=\"convertToInteractive('df-5d617c2d-c255-45db-b0de-29c1bacd0d30')\"\n",
              "              title=\"Convert this dataframe to an interactive table.\"\n",
              "              style=\"display:none;\">\n",
              "        \n",
              "  <svg xmlns=\"http://www.w3.org/2000/svg\" height=\"24px\"viewBox=\"0 0 24 24\"\n",
              "       width=\"24px\">\n",
              "    <path d=\"M0 0h24v24H0V0z\" fill=\"none\"/>\n",
              "    <path d=\"M18.56 5.44l.94 2.06.94-2.06 2.06-.94-2.06-.94-.94-2.06-.94 2.06-2.06.94zm-11 1L8.5 8.5l.94-2.06 2.06-.94-2.06-.94L8.5 2.5l-.94 2.06-2.06.94zm10 10l.94 2.06.94-2.06 2.06-.94-2.06-.94-.94-2.06-.94 2.06-2.06.94z\"/><path d=\"M17.41 7.96l-1.37-1.37c-.4-.4-.92-.59-1.43-.59-.52 0-1.04.2-1.43.59L10.3 9.45l-7.72 7.72c-.78.78-.78 2.05 0 2.83L4 21.41c.39.39.9.59 1.41.59.51 0 1.02-.2 1.41-.59l7.78-7.78 2.81-2.81c.8-.78.8-2.07 0-2.86zM5.41 20L4 18.59l7.72-7.72 1.47 1.35L5.41 20z\"/>\n",
              "  </svg>\n",
              "      </button>\n",
              "      \n",
              "  <style>\n",
              "    .colab-df-container {\n",
              "      display:flex;\n",
              "      flex-wrap:wrap;\n",
              "      gap: 12px;\n",
              "    }\n",
              "\n",
              "    .colab-df-convert {\n",
              "      background-color: #E8F0FE;\n",
              "      border: none;\n",
              "      border-radius: 50%;\n",
              "      cursor: pointer;\n",
              "      display: none;\n",
              "      fill: #1967D2;\n",
              "      height: 32px;\n",
              "      padding: 0 0 0 0;\n",
              "      width: 32px;\n",
              "    }\n",
              "\n",
              "    .colab-df-convert:hover {\n",
              "      background-color: #E2EBFA;\n",
              "      box-shadow: 0px 1px 2px rgba(60, 64, 67, 0.3), 0px 1px 3px 1px rgba(60, 64, 67, 0.15);\n",
              "      fill: #174EA6;\n",
              "    }\n",
              "\n",
              "    [theme=dark] .colab-df-convert {\n",
              "      background-color: #3B4455;\n",
              "      fill: #D2E3FC;\n",
              "    }\n",
              "\n",
              "    [theme=dark] .colab-df-convert:hover {\n",
              "      background-color: #434B5C;\n",
              "      box-shadow: 0px 1px 3px 1px rgba(0, 0, 0, 0.15);\n",
              "      filter: drop-shadow(0px 1px 2px rgba(0, 0, 0, 0.3));\n",
              "      fill: #FFFFFF;\n",
              "    }\n",
              "  </style>\n",
              "\n",
              "      <script>\n",
              "        const buttonEl =\n",
              "          document.querySelector('#df-5d617c2d-c255-45db-b0de-29c1bacd0d30 button.colab-df-convert');\n",
              "        buttonEl.style.display =\n",
              "          google.colab.kernel.accessAllowed ? 'block' : 'none';\n",
              "\n",
              "        async function convertToInteractive(key) {\n",
              "          const element = document.querySelector('#df-5d617c2d-c255-45db-b0de-29c1bacd0d30');\n",
              "          const dataTable =\n",
              "            await google.colab.kernel.invokeFunction('convertToInteractive',\n",
              "                                                     [key], {});\n",
              "          if (!dataTable) return;\n",
              "\n",
              "          const docLinkHtml = 'Like what you see? Visit the ' +\n",
              "            '<a target=\"_blank\" href=https://colab.research.google.com/notebooks/data_table.ipynb>data table notebook</a>'\n",
              "            + ' to learn more about interactive tables.';\n",
              "          element.innerHTML = '';\n",
              "          dataTable['output_type'] = 'display_data';\n",
              "          await google.colab.output.renderOutput(dataTable, element);\n",
              "          const docLink = document.createElement('div');\n",
              "          docLink.innerHTML = docLinkHtml;\n",
              "          element.appendChild(docLink);\n",
              "        }\n",
              "      </script>\n",
              "    </div>\n",
              "  </div>\n",
              "  "
            ]
          },
          "metadata": {},
          "execution_count": 102
        }
      ]
    },
    {
      "cell_type": "markdown",
      "source": [
        "4th model for signal wavelength in izopropanol"
      ],
      "metadata": {
        "id": "3xTARv4_DfAl"
      }
    },
    {
      "cell_type": "code",
      "source": [
        "model = GradientBoostingRegressor(random_state=1)\n",
        "model.fit(X_train4, y_train4)\n",
        "model_results4 = model.predict(X_test4)\n",
        "score4 = r2_score(y_test4, model_results4)\n",
        "print(\"R2 score: {:.4f}\".format(score4))"
      ],
      "metadata": {
        "colab": {
          "base_uri": "https://localhost:8080/"
        },
        "id": "BDx0hjHlCh5e",
        "outputId": "440b2116-a611-46e3-cbf5-31e4e256e324"
      },
      "execution_count": 106,
      "outputs": [
        {
          "output_type": "stream",
          "name": "stdout",
          "text": [
            "R2 score: 0.9711\n"
          ]
        }
      ]
    },
    {
      "cell_type": "code",
      "source": [
        "pred_gbr4=pd.DataFrame(data={'predictions':model_results4, 'actual':y_test4.values})\n",
        "pred_gbr4.sample(5)"
      ],
      "metadata": {
        "colab": {
          "base_uri": "https://localhost:8080/",
          "height": 206
        },
        "id": "i5XAJsUpEJYf",
        "outputId": "02646dd2-b3cc-409f-981e-b2f618f9e53d"
      },
      "execution_count": 107,
      "outputs": [
        {
          "output_type": "execute_result",
          "data": {
            "text/plain": [
              "     predictions    actual\n",
              "347     0.000002  0.000002\n",
              "249     0.000001  0.000001\n",
              "600     0.000002  0.000002\n",
              "533     0.000002  0.000002\n",
              "210     0.000002  0.000002"
            ],
            "text/html": [
              "\n",
              "  <div id=\"df-faa0762c-a4c0-4970-8f16-ed5a4dbdba60\">\n",
              "    <div class=\"colab-df-container\">\n",
              "      <div>\n",
              "<style scoped>\n",
              "    .dataframe tbody tr th:only-of-type {\n",
              "        vertical-align: middle;\n",
              "    }\n",
              "\n",
              "    .dataframe tbody tr th {\n",
              "        vertical-align: top;\n",
              "    }\n",
              "\n",
              "    .dataframe thead th {\n",
              "        text-align: right;\n",
              "    }\n",
              "</style>\n",
              "<table border=\"1\" class=\"dataframe\">\n",
              "  <thead>\n",
              "    <tr style=\"text-align: right;\">\n",
              "      <th></th>\n",
              "      <th>predictions</th>\n",
              "      <th>actual</th>\n",
              "    </tr>\n",
              "  </thead>\n",
              "  <tbody>\n",
              "    <tr>\n",
              "      <th>347</th>\n",
              "      <td>0.000002</td>\n",
              "      <td>0.000002</td>\n",
              "    </tr>\n",
              "    <tr>\n",
              "      <th>249</th>\n",
              "      <td>0.000001</td>\n",
              "      <td>0.000001</td>\n",
              "    </tr>\n",
              "    <tr>\n",
              "      <th>600</th>\n",
              "      <td>0.000002</td>\n",
              "      <td>0.000002</td>\n",
              "    </tr>\n",
              "    <tr>\n",
              "      <th>533</th>\n",
              "      <td>0.000002</td>\n",
              "      <td>0.000002</td>\n",
              "    </tr>\n",
              "    <tr>\n",
              "      <th>210</th>\n",
              "      <td>0.000002</td>\n",
              "      <td>0.000002</td>\n",
              "    </tr>\n",
              "  </tbody>\n",
              "</table>\n",
              "</div>\n",
              "      <button class=\"colab-df-convert\" onclick=\"convertToInteractive('df-faa0762c-a4c0-4970-8f16-ed5a4dbdba60')\"\n",
              "              title=\"Convert this dataframe to an interactive table.\"\n",
              "              style=\"display:none;\">\n",
              "        \n",
              "  <svg xmlns=\"http://www.w3.org/2000/svg\" height=\"24px\"viewBox=\"0 0 24 24\"\n",
              "       width=\"24px\">\n",
              "    <path d=\"M0 0h24v24H0V0z\" fill=\"none\"/>\n",
              "    <path d=\"M18.56 5.44l.94 2.06.94-2.06 2.06-.94-2.06-.94-.94-2.06-.94 2.06-2.06.94zm-11 1L8.5 8.5l.94-2.06 2.06-.94-2.06-.94L8.5 2.5l-.94 2.06-2.06.94zm10 10l.94 2.06.94-2.06 2.06-.94-2.06-.94-.94-2.06-.94 2.06-2.06.94z\"/><path d=\"M17.41 7.96l-1.37-1.37c-.4-.4-.92-.59-1.43-.59-.52 0-1.04.2-1.43.59L10.3 9.45l-7.72 7.72c-.78.78-.78 2.05 0 2.83L4 21.41c.39.39.9.59 1.41.59.51 0 1.02-.2 1.41-.59l7.78-7.78 2.81-2.81c.8-.78.8-2.07 0-2.86zM5.41 20L4 18.59l7.72-7.72 1.47 1.35L5.41 20z\"/>\n",
              "  </svg>\n",
              "      </button>\n",
              "      \n",
              "  <style>\n",
              "    .colab-df-container {\n",
              "      display:flex;\n",
              "      flex-wrap:wrap;\n",
              "      gap: 12px;\n",
              "    }\n",
              "\n",
              "    .colab-df-convert {\n",
              "      background-color: #E8F0FE;\n",
              "      border: none;\n",
              "      border-radius: 50%;\n",
              "      cursor: pointer;\n",
              "      display: none;\n",
              "      fill: #1967D2;\n",
              "      height: 32px;\n",
              "      padding: 0 0 0 0;\n",
              "      width: 32px;\n",
              "    }\n",
              "\n",
              "    .colab-df-convert:hover {\n",
              "      background-color: #E2EBFA;\n",
              "      box-shadow: 0px 1px 2px rgba(60, 64, 67, 0.3), 0px 1px 3px 1px rgba(60, 64, 67, 0.15);\n",
              "      fill: #174EA6;\n",
              "    }\n",
              "\n",
              "    [theme=dark] .colab-df-convert {\n",
              "      background-color: #3B4455;\n",
              "      fill: #D2E3FC;\n",
              "    }\n",
              "\n",
              "    [theme=dark] .colab-df-convert:hover {\n",
              "      background-color: #434B5C;\n",
              "      box-shadow: 0px 1px 3px 1px rgba(0, 0, 0, 0.15);\n",
              "      filter: drop-shadow(0px 1px 2px rgba(0, 0, 0, 0.3));\n",
              "      fill: #FFFFFF;\n",
              "    }\n",
              "  </style>\n",
              "\n",
              "      <script>\n",
              "        const buttonEl =\n",
              "          document.querySelector('#df-faa0762c-a4c0-4970-8f16-ed5a4dbdba60 button.colab-df-convert');\n",
              "        buttonEl.style.display =\n",
              "          google.colab.kernel.accessAllowed ? 'block' : 'none';\n",
              "\n",
              "        async function convertToInteractive(key) {\n",
              "          const element = document.querySelector('#df-faa0762c-a4c0-4970-8f16-ed5a4dbdba60');\n",
              "          const dataTable =\n",
              "            await google.colab.kernel.invokeFunction('convertToInteractive',\n",
              "                                                     [key], {});\n",
              "          if (!dataTable) return;\n",
              "\n",
              "          const docLinkHtml = 'Like what you see? Visit the ' +\n",
              "            '<a target=\"_blank\" href=https://colab.research.google.com/notebooks/data_table.ipynb>data table notebook</a>'\n",
              "            + ' to learn more about interactive tables.';\n",
              "          element.innerHTML = '';\n",
              "          dataTable['output_type'] = 'display_data';\n",
              "          await google.colab.output.renderOutput(dataTable, element);\n",
              "          const docLink = document.createElement('div');\n",
              "          docLink.innerHTML = docLinkHtml;\n",
              "          element.appendChild(docLink);\n",
              "        }\n",
              "      </script>\n",
              "    </div>\n",
              "  </div>\n",
              "  "
            ]
          },
          "metadata": {},
          "execution_count": 107
        }
      ]
    },
    {
      "cell_type": "markdown",
      "source": [
        "**Hyperparameter tuning**"
      ],
      "metadata": {
        "id": "tXgVh65eHdWo"
      }
    },
    {
      "cell_type": "code",
      "source": [
        "params = { 'learning_rate':[0.01,0.1,1], 'n_estimators':[50,100,200], 'max_depth':[3,4], 'random_state':[1]}\n",
        "\n",
        "grid_1 = GridSearchCV(GradientBoostingRegressor(), params, cv=5)\n",
        "grid_1.fit(X_train1, y_train1)"
      ],
      "metadata": {
        "colab": {
          "base_uri": "https://localhost:8080/",
          "height": 118
        },
        "id": "U_RGSypBGINS",
        "outputId": "e9aaa7db-8253-42ab-fb50-085557926f24"
      },
      "execution_count": 111,
      "outputs": [
        {
          "output_type": "execute_result",
          "data": {
            "text/plain": [
              "GridSearchCV(cv=5, estimator=GradientBoostingRegressor(),\n",
              "             param_grid={'learning_rate': [0.01, 0.1, 1], 'max_depth': [3, 4],\n",
              "                         'n_estimators': [50, 100, 200], 'random_state': [1]})"
            ],
            "text/html": [
              "<style>#sk-container-id-1 {color: black;background-color: white;}#sk-container-id-1 pre{padding: 0;}#sk-container-id-1 div.sk-toggleable {background-color: white;}#sk-container-id-1 label.sk-toggleable__label {cursor: pointer;display: block;width: 100%;margin-bottom: 0;padding: 0.3em;box-sizing: border-box;text-align: center;}#sk-container-id-1 label.sk-toggleable__label-arrow:before {content: \"▸\";float: left;margin-right: 0.25em;color: #696969;}#sk-container-id-1 label.sk-toggleable__label-arrow:hover:before {color: black;}#sk-container-id-1 div.sk-estimator:hover label.sk-toggleable__label-arrow:before {color: black;}#sk-container-id-1 div.sk-toggleable__content {max-height: 0;max-width: 0;overflow: hidden;text-align: left;background-color: #f0f8ff;}#sk-container-id-1 div.sk-toggleable__content pre {margin: 0.2em;color: black;border-radius: 0.25em;background-color: #f0f8ff;}#sk-container-id-1 input.sk-toggleable__control:checked~div.sk-toggleable__content {max-height: 200px;max-width: 100%;overflow: auto;}#sk-container-id-1 input.sk-toggleable__control:checked~label.sk-toggleable__label-arrow:before {content: \"▾\";}#sk-container-id-1 div.sk-estimator input.sk-toggleable__control:checked~label.sk-toggleable__label {background-color: #d4ebff;}#sk-container-id-1 div.sk-label input.sk-toggleable__control:checked~label.sk-toggleable__label {background-color: #d4ebff;}#sk-container-id-1 input.sk-hidden--visually {border: 0;clip: rect(1px 1px 1px 1px);clip: rect(1px, 1px, 1px, 1px);height: 1px;margin: -1px;overflow: hidden;padding: 0;position: absolute;width: 1px;}#sk-container-id-1 div.sk-estimator {font-family: monospace;background-color: #f0f8ff;border: 1px dotted black;border-radius: 0.25em;box-sizing: border-box;margin-bottom: 0.5em;}#sk-container-id-1 div.sk-estimator:hover {background-color: #d4ebff;}#sk-container-id-1 div.sk-parallel-item::after {content: \"\";width: 100%;border-bottom: 1px solid gray;flex-grow: 1;}#sk-container-id-1 div.sk-label:hover label.sk-toggleable__label {background-color: #d4ebff;}#sk-container-id-1 div.sk-serial::before {content: \"\";position: absolute;border-left: 1px solid gray;box-sizing: border-box;top: 0;bottom: 0;left: 50%;z-index: 0;}#sk-container-id-1 div.sk-serial {display: flex;flex-direction: column;align-items: center;background-color: white;padding-right: 0.2em;padding-left: 0.2em;position: relative;}#sk-container-id-1 div.sk-item {position: relative;z-index: 1;}#sk-container-id-1 div.sk-parallel {display: flex;align-items: stretch;justify-content: center;background-color: white;position: relative;}#sk-container-id-1 div.sk-item::before, #sk-container-id-1 div.sk-parallel-item::before {content: \"\";position: absolute;border-left: 1px solid gray;box-sizing: border-box;top: 0;bottom: 0;left: 50%;z-index: -1;}#sk-container-id-1 div.sk-parallel-item {display: flex;flex-direction: column;z-index: 1;position: relative;background-color: white;}#sk-container-id-1 div.sk-parallel-item:first-child::after {align-self: flex-end;width: 50%;}#sk-container-id-1 div.sk-parallel-item:last-child::after {align-self: flex-start;width: 50%;}#sk-container-id-1 div.sk-parallel-item:only-child::after {width: 0;}#sk-container-id-1 div.sk-dashed-wrapped {border: 1px dashed gray;margin: 0 0.4em 0.5em 0.4em;box-sizing: border-box;padding-bottom: 0.4em;background-color: white;}#sk-container-id-1 div.sk-label label {font-family: monospace;font-weight: bold;display: inline-block;line-height: 1.2em;}#sk-container-id-1 div.sk-label-container {text-align: center;}#sk-container-id-1 div.sk-container {/* jupyter's `normalize.less` sets `[hidden] { display: none; }` but bootstrap.min.css set `[hidden] { display: none !important; }` so we also need the `!important` here to be able to override the default hidden behavior on the sphinx rendered scikit-learn.org. See: https://github.com/scikit-learn/scikit-learn/issues/21755 */display: inline-block !important;position: relative;}#sk-container-id-1 div.sk-text-repr-fallback {display: none;}</style><div id=\"sk-container-id-1\" class=\"sk-top-container\"><div class=\"sk-text-repr-fallback\"><pre>GridSearchCV(cv=5, estimator=GradientBoostingRegressor(),\n",
              "             param_grid={&#x27;learning_rate&#x27;: [0.01, 0.1, 1], &#x27;max_depth&#x27;: [3, 4],\n",
              "                         &#x27;n_estimators&#x27;: [50, 100, 200], &#x27;random_state&#x27;: [1]})</pre><b>In a Jupyter environment, please rerun this cell to show the HTML representation or trust the notebook. <br />On GitHub, the HTML representation is unable to render, please try loading this page with nbviewer.org.</b></div><div class=\"sk-container\" hidden><div class=\"sk-item sk-dashed-wrapped\"><div class=\"sk-label-container\"><div class=\"sk-label sk-toggleable\"><input class=\"sk-toggleable__control sk-hidden--visually\" id=\"sk-estimator-id-1\" type=\"checkbox\" ><label for=\"sk-estimator-id-1\" class=\"sk-toggleable__label sk-toggleable__label-arrow\">GridSearchCV</label><div class=\"sk-toggleable__content\"><pre>GridSearchCV(cv=5, estimator=GradientBoostingRegressor(),\n",
              "             param_grid={&#x27;learning_rate&#x27;: [0.01, 0.1, 1], &#x27;max_depth&#x27;: [3, 4],\n",
              "                         &#x27;n_estimators&#x27;: [50, 100, 200], &#x27;random_state&#x27;: [1]})</pre></div></div></div><div class=\"sk-parallel\"><div class=\"sk-parallel-item\"><div class=\"sk-item\"><div class=\"sk-label-container\"><div class=\"sk-label sk-toggleable\"><input class=\"sk-toggleable__control sk-hidden--visually\" id=\"sk-estimator-id-2\" type=\"checkbox\" ><label for=\"sk-estimator-id-2\" class=\"sk-toggleable__label sk-toggleable__label-arrow\">estimator: GradientBoostingRegressor</label><div class=\"sk-toggleable__content\"><pre>GradientBoostingRegressor()</pre></div></div></div><div class=\"sk-serial\"><div class=\"sk-item\"><div class=\"sk-estimator sk-toggleable\"><input class=\"sk-toggleable__control sk-hidden--visually\" id=\"sk-estimator-id-3\" type=\"checkbox\" ><label for=\"sk-estimator-id-3\" class=\"sk-toggleable__label sk-toggleable__label-arrow\">GradientBoostingRegressor</label><div class=\"sk-toggleable__content\"><pre>GradientBoostingRegressor()</pre></div></div></div></div></div></div></div></div></div></div>"
            ]
          },
          "metadata": {},
          "execution_count": 111
        }
      ]
    },
    {
      "cell_type": "code",
      "source": [
        "print('Best parameters: {}'.format(grid_1.best_params_))\n",
        "print('Best score for model 1: {}'.format(grid_1.best_score_))"
      ],
      "metadata": {
        "colab": {
          "base_uri": "https://localhost:8080/"
        },
        "id": "9qvDAvimI3ex",
        "outputId": "e2b04d1b-1378-46df-cd1c-976bd273afc8"
      },
      "execution_count": 113,
      "outputs": [
        {
          "output_type": "stream",
          "name": "stdout",
          "text": [
            "Best parameters: {'learning_rate': 0.1, 'max_depth': 4, 'n_estimators': 200, 'random_state': 1}\n",
            "Best score for model 1: 0.9989460136074582\n"
          ]
        }
      ]
    },
    {
      "cell_type": "code",
      "source": [
        "model = GradientBoostingRegressor(random_state=1, max_depth=4, n_estimators=200)\n",
        "model.fit(X_train2, y_train2)\n",
        "model_results2 = model.predict(X_test2)\n",
        "score2 = r2_score(y_test2, model_results2)\n",
        "print(\"Best score for model 2 after GridSearch: {:.4f}\".format(score2))"
      ],
      "metadata": {
        "colab": {
          "base_uri": "https://localhost:8080/"
        },
        "id": "H86mXROfJqEC",
        "outputId": "a654ec7d-a09f-431a-fc4f-983a4c9b3046"
      },
      "execution_count": 114,
      "outputs": [
        {
          "output_type": "stream",
          "name": "stdout",
          "text": [
            "Best score for model 2 after GridSearch: 0.9711\n"
          ]
        }
      ]
    },
    {
      "cell_type": "code",
      "source": [
        "model = GradientBoostingRegressor(random_state=1, max_depth=4, n_estimators=200)\n",
        "model.fit(X_train3, y_train3)\n",
        "model_results3 = model.predict(X_test3)\n",
        "score3 = r2_score(y_test3, model_results3)\n",
        "print(\"Best score for model 3 after GridSearch: {:.4f}\".format(score3))"
      ],
      "metadata": {
        "colab": {
          "base_uri": "https://localhost:8080/"
        },
        "id": "naBmAiKNLI-c",
        "outputId": "c1bda7b4-b14b-475f-eb9b-ffd5cc8be31d"
      },
      "execution_count": 117,
      "outputs": [
        {
          "output_type": "stream",
          "name": "stdout",
          "text": [
            "Best score for model 3 after GridSearch: 0.9989\n"
          ]
        }
      ]
    },
    {
      "cell_type": "code",
      "source": [
        "model = GradientBoostingRegressor(random_state=1, max_depth=4, n_estimators=200)\n",
        "model.fit(X_train4, y_train4)\n",
        "model_results4 = model.predict(X_test4)\n",
        "score4 = r2_score(y_test4, model_results4)\n",
        "print(\"Best score for model 4 after GridSearch: {:.4f}\".format(score4))"
      ],
      "metadata": {
        "colab": {
          "base_uri": "https://localhost:8080/"
        },
        "id": "Y2N9aBEELl3f",
        "outputId": "f2ea8ab4-3d15-4a36-a744-afc359831dc1"
      },
      "execution_count": 119,
      "outputs": [
        {
          "output_type": "stream",
          "name": "stdout",
          "text": [
            "Best score for model 4 after GridSearch: 0.9711\n"
          ]
        }
      ]
    },
    {
      "cell_type": "markdown",
      "source": [
        "The best results I received from GradientBoostingRegressor model. Other models didn't work out, because of overfitting."
      ],
      "metadata": {
        "id": "ejQTOIE1Ly97"
      }
    },
    {
      "cell_type": "markdown",
      "source": [
        "The main problem was with small quantity of measurments (data only from 10 tests). If I had more data from sensors the result would be much more fitted to real curves."
      ],
      "metadata": {
        "id": "ZPovuOscMW0s"
      }
    }
  ]
}